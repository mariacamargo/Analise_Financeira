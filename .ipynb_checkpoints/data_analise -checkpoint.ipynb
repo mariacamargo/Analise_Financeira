{
 "cells": [
  {
   "cell_type": "code",
   "execution_count": 1,
   "id": "4162f2f7",
   "metadata": {
    "scrolled": true
   },
   "outputs": [
    {
     "data": {
      "text/html": [
       "<div>\n",
       "<style scoped>\n",
       "    .dataframe tbody tr th:only-of-type {\n",
       "        vertical-align: middle;\n",
       "    }\n",
       "\n",
       "    .dataframe tbody tr th {\n",
       "        vertical-align: top;\n",
       "    }\n",
       "\n",
       "    .dataframe thead th {\n",
       "        text-align: right;\n",
       "    }\n",
       "</style>\n",
       "<table border=\"1\" class=\"dataframe\">\n",
       "  <thead>\n",
       "    <tr style=\"text-align: right;\">\n",
       "      <th></th>\n",
       "      <th>Cliente</th>\n",
       "      <th>Codigo</th>\n",
       "      <th>Prospeccao</th>\n",
       "      <th>Atendimento</th>\n",
       "      <th>Produto</th>\n",
       "      <th>Data_ref</th>\n",
       "      <th>Patrimonio</th>\n",
       "      <th>Taxa_adm</th>\n",
       "      <th>Cap_Liq</th>\n",
       "      <th>Segmento</th>\n",
       "    </tr>\n",
       "  </thead>\n",
       "  <tbody>\n",
       "    <tr>\n",
       "      <th>0</th>\n",
       "      <td>Cliente 1</td>\n",
       "      <td>Codigo 485</td>\n",
       "      <td>Prospeccao 4</td>\n",
       "      <td>Atendimento 5</td>\n",
       "      <td>Produto 2</td>\n",
       "      <td>2023-09-10</td>\n",
       "      <td>569538.44</td>\n",
       "      <td>39.0</td>\n",
       "      <td>568057.64</td>\n",
       "      <td>Segmento 3</td>\n",
       "    </tr>\n",
       "    <tr>\n",
       "      <th>1</th>\n",
       "      <td>Cliente 1</td>\n",
       "      <td>Codigo 332</td>\n",
       "      <td>Prospeccao 5</td>\n",
       "      <td>Atendimento 2</td>\n",
       "      <td>Produto 4</td>\n",
       "      <td>2023-04-17</td>\n",
       "      <td>198650.85</td>\n",
       "      <td>99.0</td>\n",
       "      <td>197339.75</td>\n",
       "      <td>Segmento 5</td>\n",
       "    </tr>\n",
       "    <tr>\n",
       "      <th>2</th>\n",
       "      <td>Cliente 1</td>\n",
       "      <td>Codigo 223</td>\n",
       "      <td>Prospeccao 3</td>\n",
       "      <td>Atendimento 3</td>\n",
       "      <td>Produto 3</td>\n",
       "      <td>2023-11-14</td>\n",
       "      <td>862405.42</td>\n",
       "      <td>22.5</td>\n",
       "      <td>861111.81</td>\n",
       "      <td>Segmento 3</td>\n",
       "    </tr>\n",
       "    <tr>\n",
       "      <th>3</th>\n",
       "      <td>Cliente 1</td>\n",
       "      <td>Codigo 143</td>\n",
       "      <td>Prospeccao 4</td>\n",
       "      <td>Atendimento 4</td>\n",
       "      <td>Produto 4</td>\n",
       "      <td>2023-03-30</td>\n",
       "      <td>815386.28</td>\n",
       "      <td>144.0</td>\n",
       "      <td>807558.57</td>\n",
       "      <td>Segmento 3</td>\n",
       "    </tr>\n",
       "    <tr>\n",
       "      <th>4</th>\n",
       "      <td>Cliente 1</td>\n",
       "      <td>Codigo 137</td>\n",
       "      <td>Prospeccao 4</td>\n",
       "      <td>Atendimento 3</td>\n",
       "      <td>Produto 1</td>\n",
       "      <td>2023-06-30</td>\n",
       "      <td>153715.42</td>\n",
       "      <td>159.0</td>\n",
       "      <td>152086.04</td>\n",
       "      <td>Segmento 4</td>\n",
       "    </tr>\n",
       "    <tr>\n",
       "      <th>...</th>\n",
       "      <td>...</td>\n",
       "      <td>...</td>\n",
       "      <td>...</td>\n",
       "      <td>...</td>\n",
       "      <td>...</td>\n",
       "      <td>...</td>\n",
       "      <td>...</td>\n",
       "      <td>...</td>\n",
       "      <td>...</td>\n",
       "      <td>...</td>\n",
       "    </tr>\n",
       "    <tr>\n",
       "      <th>1995</th>\n",
       "      <td>Cliente 99</td>\n",
       "      <td>Codigo 380</td>\n",
       "      <td>Prospeccao 3</td>\n",
       "      <td>Atendimento 3</td>\n",
       "      <td>Produto 3</td>\n",
       "      <td>2023-01-02</td>\n",
       "      <td>356733.11</td>\n",
       "      <td>180.0</td>\n",
       "      <td>0.00</td>\n",
       "      <td>Segmento 5</td>\n",
       "    </tr>\n",
       "    <tr>\n",
       "      <th>1996</th>\n",
       "      <td>Cliente 99</td>\n",
       "      <td>Codigo 288</td>\n",
       "      <td>Prospeccao 2</td>\n",
       "      <td>Atendimento 5</td>\n",
       "      <td>Produto 4</td>\n",
       "      <td>2023-11-23</td>\n",
       "      <td>615790.47</td>\n",
       "      <td>187.5</td>\n",
       "      <td>0.00</td>\n",
       "      <td>Segmento 4</td>\n",
       "    </tr>\n",
       "    <tr>\n",
       "      <th>1997</th>\n",
       "      <td>Cliente 99</td>\n",
       "      <td>Codigo 428</td>\n",
       "      <td>Prospeccao 2</td>\n",
       "      <td>Atendimento 1</td>\n",
       "      <td>Produto 4</td>\n",
       "      <td>2023-01-25</td>\n",
       "      <td>255087.43</td>\n",
       "      <td>16.5</td>\n",
       "      <td>0.00</td>\n",
       "      <td>Segmento 1</td>\n",
       "    </tr>\n",
       "    <tr>\n",
       "      <th>1998</th>\n",
       "      <td>Cliente 99</td>\n",
       "      <td>Codigo 203</td>\n",
       "      <td>Prospeccao 5</td>\n",
       "      <td>Atendimento 2</td>\n",
       "      <td>Produto 2</td>\n",
       "      <td>2023-12-06</td>\n",
       "      <td>921229.17</td>\n",
       "      <td>109.5</td>\n",
       "      <td>0.00</td>\n",
       "      <td>Segmento 4</td>\n",
       "    </tr>\n",
       "    <tr>\n",
       "      <th>1999</th>\n",
       "      <td>Cliente 99</td>\n",
       "      <td>Codigo 436</td>\n",
       "      <td>Prospeccao 5</td>\n",
       "      <td>Atendimento 3</td>\n",
       "      <td>Produto 2</td>\n",
       "      <td>2023-08-26</td>\n",
       "      <td>777843.02</td>\n",
       "      <td>202.5</td>\n",
       "      <td>0.00</td>\n",
       "      <td>Segmento 2</td>\n",
       "    </tr>\n",
       "  </tbody>\n",
       "</table>\n",
       "<p>2000 rows × 10 columns</p>\n",
       "</div>"
      ],
      "text/plain": [
       "         Cliente      Codigo    Prospeccao    Atendimento    Produto  \\\n",
       "0      Cliente 1  Codigo 485  Prospeccao 4  Atendimento 5  Produto 2   \n",
       "1      Cliente 1  Codigo 332  Prospeccao 5  Atendimento 2  Produto 4   \n",
       "2      Cliente 1  Codigo 223  Prospeccao 3  Atendimento 3  Produto 3   \n",
       "3      Cliente 1  Codigo 143  Prospeccao 4  Atendimento 4  Produto 4   \n",
       "4      Cliente 1  Codigo 137  Prospeccao 4  Atendimento 3  Produto 1   \n",
       "...          ...         ...           ...            ...        ...   \n",
       "1995  Cliente 99  Codigo 380  Prospeccao 3  Atendimento 3  Produto 3   \n",
       "1996  Cliente 99  Codigo 288  Prospeccao 2  Atendimento 5  Produto 4   \n",
       "1997  Cliente 99  Codigo 428  Prospeccao 2  Atendimento 1  Produto 4   \n",
       "1998  Cliente 99  Codigo 203  Prospeccao 5  Atendimento 2  Produto 2   \n",
       "1999  Cliente 99  Codigo 436  Prospeccao 5  Atendimento 3  Produto 2   \n",
       "\n",
       "       Data_ref  Patrimonio  Taxa_adm    Cap_Liq    Segmento  \n",
       "0    2023-09-10   569538.44      39.0  568057.64  Segmento 3  \n",
       "1    2023-04-17   198650.85      99.0  197339.75  Segmento 5  \n",
       "2    2023-11-14   862405.42      22.5  861111.81  Segmento 3  \n",
       "3    2023-03-30   815386.28     144.0  807558.57  Segmento 3  \n",
       "4    2023-06-30   153715.42     159.0  152086.04  Segmento 4  \n",
       "...         ...         ...       ...        ...         ...  \n",
       "1995 2023-01-02   356733.11     180.0       0.00  Segmento 5  \n",
       "1996 2023-11-23   615790.47     187.5       0.00  Segmento 4  \n",
       "1997 2023-01-25   255087.43      16.5       0.00  Segmento 1  \n",
       "1998 2023-12-06   921229.17     109.5       0.00  Segmento 4  \n",
       "1999 2023-08-26   777843.02     202.5       0.00  Segmento 2  \n",
       "\n",
       "[2000 rows x 10 columns]"
      ]
     },
     "execution_count": 1,
     "metadata": {},
     "output_type": "execute_result"
    }
   ],
   "source": [
    "import pandas as pd\n",
    "import numpy as np\n",
    "import matplotlib.pyplot as plt\n",
    "\n",
    "\n",
    "\n",
    "dados = pd.read_excel(f\"../analise_finan/dados_financeiros.xlsx\")\n",
    "dados "
   ]
  },
  {
   "cell_type": "code",
   "execution_count": 2,
   "id": "bea87b7f",
   "metadata": {},
   "outputs": [
    {
     "data": {
      "text/html": [
       "<div>\n",
       "<style scoped>\n",
       "    .dataframe tbody tr th:only-of-type {\n",
       "        vertical-align: middle;\n",
       "    }\n",
       "\n",
       "    .dataframe tbody tr th {\n",
       "        vertical-align: top;\n",
       "    }\n",
       "\n",
       "    .dataframe thead th {\n",
       "        text-align: right;\n",
       "    }\n",
       "</style>\n",
       "<table border=\"1\" class=\"dataframe\">\n",
       "  <thead>\n",
       "    <tr style=\"text-align: right;\">\n",
       "      <th></th>\n",
       "      <th>cliente</th>\n",
       "      <th>codigo</th>\n",
       "      <th>prospeccao</th>\n",
       "      <th>atendimento</th>\n",
       "      <th>produto</th>\n",
       "      <th>data_ref</th>\n",
       "      <th>patrimonio</th>\n",
       "      <th>taxa_adm</th>\n",
       "      <th>cap_liq</th>\n",
       "      <th>segmento</th>\n",
       "    </tr>\n",
       "  </thead>\n",
       "  <tbody>\n",
       "    <tr>\n",
       "      <th>0</th>\n",
       "      <td>Cliente 1</td>\n",
       "      <td>Codigo 485</td>\n",
       "      <td>Prospeccao 4</td>\n",
       "      <td>Atendimento 5</td>\n",
       "      <td>Produto 2</td>\n",
       "      <td>2023-09-10</td>\n",
       "      <td>569538.44</td>\n",
       "      <td>39.0</td>\n",
       "      <td>568057.64</td>\n",
       "      <td>Segmento 3</td>\n",
       "    </tr>\n",
       "    <tr>\n",
       "      <th>1</th>\n",
       "      <td>Cliente 1</td>\n",
       "      <td>Codigo 332</td>\n",
       "      <td>Prospeccao 5</td>\n",
       "      <td>Atendimento 2</td>\n",
       "      <td>Produto 4</td>\n",
       "      <td>2023-04-17</td>\n",
       "      <td>198650.85</td>\n",
       "      <td>99.0</td>\n",
       "      <td>197339.75</td>\n",
       "      <td>Segmento 5</td>\n",
       "    </tr>\n",
       "    <tr>\n",
       "      <th>2</th>\n",
       "      <td>Cliente 1</td>\n",
       "      <td>Codigo 223</td>\n",
       "      <td>Prospeccao 3</td>\n",
       "      <td>Atendimento 3</td>\n",
       "      <td>Produto 3</td>\n",
       "      <td>2023-11-14</td>\n",
       "      <td>862405.42</td>\n",
       "      <td>22.5</td>\n",
       "      <td>861111.81</td>\n",
       "      <td>Segmento 3</td>\n",
       "    </tr>\n",
       "    <tr>\n",
       "      <th>3</th>\n",
       "      <td>Cliente 1</td>\n",
       "      <td>Codigo 143</td>\n",
       "      <td>Prospeccao 4</td>\n",
       "      <td>Atendimento 4</td>\n",
       "      <td>Produto 4</td>\n",
       "      <td>2023-03-30</td>\n",
       "      <td>815386.28</td>\n",
       "      <td>144.0</td>\n",
       "      <td>807558.57</td>\n",
       "      <td>Segmento 3</td>\n",
       "    </tr>\n",
       "    <tr>\n",
       "      <th>4</th>\n",
       "      <td>Cliente 1</td>\n",
       "      <td>Codigo 137</td>\n",
       "      <td>Prospeccao 4</td>\n",
       "      <td>Atendimento 3</td>\n",
       "      <td>Produto 1</td>\n",
       "      <td>2023-06-30</td>\n",
       "      <td>153715.42</td>\n",
       "      <td>159.0</td>\n",
       "      <td>152086.04</td>\n",
       "      <td>Segmento 4</td>\n",
       "    </tr>\n",
       "    <tr>\n",
       "      <th>...</th>\n",
       "      <td>...</td>\n",
       "      <td>...</td>\n",
       "      <td>...</td>\n",
       "      <td>...</td>\n",
       "      <td>...</td>\n",
       "      <td>...</td>\n",
       "      <td>...</td>\n",
       "      <td>...</td>\n",
       "      <td>...</td>\n",
       "      <td>...</td>\n",
       "    </tr>\n",
       "    <tr>\n",
       "      <th>1995</th>\n",
       "      <td>Cliente 99</td>\n",
       "      <td>Codigo 380</td>\n",
       "      <td>Prospeccao 3</td>\n",
       "      <td>Atendimento 3</td>\n",
       "      <td>Produto 3</td>\n",
       "      <td>2023-01-02</td>\n",
       "      <td>356733.11</td>\n",
       "      <td>180.0</td>\n",
       "      <td>0.00</td>\n",
       "      <td>Segmento 5</td>\n",
       "    </tr>\n",
       "    <tr>\n",
       "      <th>1996</th>\n",
       "      <td>Cliente 99</td>\n",
       "      <td>Codigo 288</td>\n",
       "      <td>Prospeccao 2</td>\n",
       "      <td>Atendimento 5</td>\n",
       "      <td>Produto 4</td>\n",
       "      <td>2023-11-23</td>\n",
       "      <td>615790.47</td>\n",
       "      <td>187.5</td>\n",
       "      <td>0.00</td>\n",
       "      <td>Segmento 4</td>\n",
       "    </tr>\n",
       "    <tr>\n",
       "      <th>1997</th>\n",
       "      <td>Cliente 99</td>\n",
       "      <td>Codigo 428</td>\n",
       "      <td>Prospeccao 2</td>\n",
       "      <td>Atendimento 1</td>\n",
       "      <td>Produto 4</td>\n",
       "      <td>2023-01-25</td>\n",
       "      <td>255087.43</td>\n",
       "      <td>16.5</td>\n",
       "      <td>0.00</td>\n",
       "      <td>Segmento 1</td>\n",
       "    </tr>\n",
       "    <tr>\n",
       "      <th>1998</th>\n",
       "      <td>Cliente 99</td>\n",
       "      <td>Codigo 203</td>\n",
       "      <td>Prospeccao 5</td>\n",
       "      <td>Atendimento 2</td>\n",
       "      <td>Produto 2</td>\n",
       "      <td>2023-12-06</td>\n",
       "      <td>921229.17</td>\n",
       "      <td>109.5</td>\n",
       "      <td>0.00</td>\n",
       "      <td>Segmento 4</td>\n",
       "    </tr>\n",
       "    <tr>\n",
       "      <th>1999</th>\n",
       "      <td>Cliente 99</td>\n",
       "      <td>Codigo 436</td>\n",
       "      <td>Prospeccao 5</td>\n",
       "      <td>Atendimento 3</td>\n",
       "      <td>Produto 2</td>\n",
       "      <td>2023-08-26</td>\n",
       "      <td>777843.02</td>\n",
       "      <td>202.5</td>\n",
       "      <td>0.00</td>\n",
       "      <td>Segmento 2</td>\n",
       "    </tr>\n",
       "  </tbody>\n",
       "</table>\n",
       "<p>2000 rows × 10 columns</p>\n",
       "</div>"
      ],
      "text/plain": [
       "         cliente      codigo    prospeccao    atendimento    produto  \\\n",
       "0      Cliente 1  Codigo 485  Prospeccao 4  Atendimento 5  Produto 2   \n",
       "1      Cliente 1  Codigo 332  Prospeccao 5  Atendimento 2  Produto 4   \n",
       "2      Cliente 1  Codigo 223  Prospeccao 3  Atendimento 3  Produto 3   \n",
       "3      Cliente 1  Codigo 143  Prospeccao 4  Atendimento 4  Produto 4   \n",
       "4      Cliente 1  Codigo 137  Prospeccao 4  Atendimento 3  Produto 1   \n",
       "...          ...         ...           ...            ...        ...   \n",
       "1995  Cliente 99  Codigo 380  Prospeccao 3  Atendimento 3  Produto 3   \n",
       "1996  Cliente 99  Codigo 288  Prospeccao 2  Atendimento 5  Produto 4   \n",
       "1997  Cliente 99  Codigo 428  Prospeccao 2  Atendimento 1  Produto 4   \n",
       "1998  Cliente 99  Codigo 203  Prospeccao 5  Atendimento 2  Produto 2   \n",
       "1999  Cliente 99  Codigo 436  Prospeccao 5  Atendimento 3  Produto 2   \n",
       "\n",
       "       data_ref  patrimonio  taxa_adm    cap_liq    segmento  \n",
       "0    2023-09-10   569538.44      39.0  568057.64  Segmento 3  \n",
       "1    2023-04-17   198650.85      99.0  197339.75  Segmento 5  \n",
       "2    2023-11-14   862405.42      22.5  861111.81  Segmento 3  \n",
       "3    2023-03-30   815386.28     144.0  807558.57  Segmento 3  \n",
       "4    2023-06-30   153715.42     159.0  152086.04  Segmento 4  \n",
       "...         ...         ...       ...        ...         ...  \n",
       "1995 2023-01-02   356733.11     180.0       0.00  Segmento 5  \n",
       "1996 2023-11-23   615790.47     187.5       0.00  Segmento 4  \n",
       "1997 2023-01-25   255087.43      16.5       0.00  Segmento 1  \n",
       "1998 2023-12-06   921229.17     109.5       0.00  Segmento 4  \n",
       "1999 2023-08-26   777843.02     202.5       0.00  Segmento 2  \n",
       "\n",
       "[2000 rows x 10 columns]"
      ]
     },
     "execution_count": 2,
     "metadata": {},
     "output_type": "execute_result"
    }
   ],
   "source": [
    "dados['Data_ref'] = pd.to_datetime(dados['Data_ref'])\n",
    "dados.rename(columns=lambda x: x.lower(), inplace=True)\n",
    "dados"
   ]
  },
  {
   "cell_type": "markdown",
   "id": "1da9a93d",
   "metadata": {},
   "source": [
    "# Patrimônio Total por Mês"
   ]
  },
  {
   "cell_type": "code",
   "execution_count": 3,
   "id": "0a198362",
   "metadata": {},
   "outputs": [
    {
     "data": {
      "text/plain": [
       "data_ref\n",
       "2023-01    84303036.57\n",
       "2023-02    76478729.85\n",
       "2023-03    77926008.05\n",
       "2023-04    96143753.75\n",
       "2023-05    74600354.52\n",
       "2023-06    77353938.13\n",
       "2023-07    98525909.10\n",
       "2023-08    90315963.92\n",
       "2023-09    82178360.42\n",
       "2023-10    95047658.79\n",
       "2023-11    79423729.93\n",
       "2023-12    79962997.83\n",
       "Freq: M, Name: patrimonio, dtype: float64"
      ]
     },
     "execution_count": 3,
     "metadata": {},
     "output_type": "execute_result"
    }
   ],
   "source": [
    "# Calcular o Patrimônio total por mês\n",
    "\n",
    "patrimonio_por_mes = dados.groupby(dados['data_ref'].dt.to_period('M'))['patrimonio'].sum()\n",
    "patrimonio_por_mes"
   ]
  },
  {
   "cell_type": "code",
   "execution_count": 4,
   "id": "45c2ca3c",
   "metadata": {},
   "outputs": [
    {
     "data": {
      "text/plain": [
       "data_ref\n",
       "2023-07    98525909.10\n",
       "2023-04    96143753.75\n",
       "2023-10    95047658.79\n",
       "Freq: M, Name: patrimonio, dtype: float64"
      ]
     },
     "execution_count": 4,
     "metadata": {},
     "output_type": "execute_result"
    }
   ],
   "source": [
    "# tres maiores patrimonios\n",
    "\n",
    "top3_maiores_patrimonios = patrimonio_por_mes.nlargest(3)\n",
    "top3_maiores_patrimonios"
   ]
  },
  {
   "cell_type": "code",
   "execution_count": 5,
   "id": "31fcd7c5",
   "metadata": {},
   "outputs": [
    {
     "data": {
      "text/plain": [
       "data_ref\n",
       "2023-05    74600354.52\n",
       "2023-02    76478729.85\n",
       "2023-06    77353938.13\n",
       "Freq: M, Name: patrimonio, dtype: float64"
      ]
     },
     "execution_count": 5,
     "metadata": {},
     "output_type": "execute_result"
    }
   ],
   "source": [
    "# tres menores patrimonios \n",
    "\n",
    "top3_menores_patrimonios = patrimonio_por_mes.nsmallest(3)\n",
    "top3_menores_patrimonios"
   ]
  },
  {
   "cell_type": "markdown",
   "id": "9078f82e",
   "metadata": {},
   "source": [
    "# Patrimônio Total por Produto"
   ]
  },
  {
   "cell_type": "code",
   "execution_count": 6,
   "id": "3d226015",
   "metadata": {},
   "outputs": [
    {
     "data": {
      "text/plain": [
       "produto\n",
       "Produto 1    2.048026e+08\n",
       "Produto 2    1.946948e+08\n",
       "Produto 3    2.014207e+08\n",
       "Produto 4    2.001112e+08\n",
       "Produto 5    2.112312e+08\n",
       "Name: patrimonio, dtype: float64"
      ]
     },
     "execution_count": 6,
     "metadata": {},
     "output_type": "execute_result"
    }
   ],
   "source": [
    "# Calcular o Patrimônio total por produto\n",
    "\n",
    "patrimonio_por_produto = dados.groupby('produto')['patrimonio'].sum()\n",
    "patrimonio_por_produto"
   ]
  },
  {
   "cell_type": "code",
   "execution_count": 7,
   "id": "4f7958aa",
   "metadata": {},
   "outputs": [],
   "source": [
    "# 2.048026e+08 = 204.802.600\n",
    "# 1.946948e+08 = 194.694.800\n",
    "# 2.014207e+08 = 201.420.700\n",
    "# 2.001112e+08 = 200.111.200\n",
    "# 2.112312e+08 = 211.231.200"
   ]
  },
  {
   "cell_type": "markdown",
   "id": "e02297a6",
   "metadata": {},
   "source": [
    "# Patrimônio Total por Cliente"
   ]
  },
  {
   "cell_type": "code",
   "execution_count": 8,
   "id": "80ed8f4e",
   "metadata": {},
   "outputs": [
    {
     "data": {
      "text/plain": [
       "397"
      ]
     },
     "execution_count": 8,
     "metadata": {},
     "output_type": "execute_result"
    }
   ],
   "source": [
    "# total clientes\n",
    "\n",
    "total_clientes = dados['cliente'].nunique()\n",
    "total_clientes"
   ]
  },
  {
   "cell_type": "code",
   "execution_count": 9,
   "id": "ddd0b40d",
   "metadata": {},
   "outputs": [
    {
     "data": {
      "text/html": [
       "<div>\n",
       "<style scoped>\n",
       "    .dataframe tbody tr th:only-of-type {\n",
       "        vertical-align: middle;\n",
       "    }\n",
       "\n",
       "    .dataframe tbody tr th {\n",
       "        vertical-align: top;\n",
       "    }\n",
       "\n",
       "    .dataframe thead th {\n",
       "        text-align: right;\n",
       "    }\n",
       "</style>\n",
       "<table border=\"1\" class=\"dataframe\">\n",
       "  <thead>\n",
       "    <tr style=\"text-align: right;\">\n",
       "      <th></th>\n",
       "      <th>cliente</th>\n",
       "      <th>patrimonio</th>\n",
       "    </tr>\n",
       "  </thead>\n",
       "  <tbody>\n",
       "    <tr>\n",
       "      <th>0</th>\n",
       "      <td>Cliente 1</td>\n",
       "      <td>2711779.58</td>\n",
       "    </tr>\n",
       "    <tr>\n",
       "      <th>1</th>\n",
       "      <td>Cliente 10</td>\n",
       "      <td>1781780.43</td>\n",
       "    </tr>\n",
       "    <tr>\n",
       "      <th>2</th>\n",
       "      <td>Cliente 100</td>\n",
       "      <td>2715965.53</td>\n",
       "    </tr>\n",
       "    <tr>\n",
       "      <th>3</th>\n",
       "      <td>Cliente 101</td>\n",
       "      <td>2585304.73</td>\n",
       "    </tr>\n",
       "    <tr>\n",
       "      <th>4</th>\n",
       "      <td>Cliente 102</td>\n",
       "      <td>3677988.67</td>\n",
       "    </tr>\n",
       "    <tr>\n",
       "      <th>...</th>\n",
       "      <td>...</td>\n",
       "      <td>...</td>\n",
       "    </tr>\n",
       "    <tr>\n",
       "      <th>392</th>\n",
       "      <td>Cliente 95</td>\n",
       "      <td>3905119.75</td>\n",
       "    </tr>\n",
       "    <tr>\n",
       "      <th>393</th>\n",
       "      <td>Cliente 96</td>\n",
       "      <td>2561528.59</td>\n",
       "    </tr>\n",
       "    <tr>\n",
       "      <th>394</th>\n",
       "      <td>Cliente 97</td>\n",
       "      <td>2097478.54</td>\n",
       "    </tr>\n",
       "    <tr>\n",
       "      <th>395</th>\n",
       "      <td>Cliente 98</td>\n",
       "      <td>1061069.15</td>\n",
       "    </tr>\n",
       "    <tr>\n",
       "      <th>396</th>\n",
       "      <td>Cliente 99</td>\n",
       "      <td>2926683.20</td>\n",
       "    </tr>\n",
       "  </tbody>\n",
       "</table>\n",
       "<p>397 rows × 2 columns</p>\n",
       "</div>"
      ],
      "text/plain": [
       "         cliente  patrimonio\n",
       "0      Cliente 1  2711779.58\n",
       "1     Cliente 10  1781780.43\n",
       "2    Cliente 100  2715965.53\n",
       "3    Cliente 101  2585304.73\n",
       "4    Cliente 102  3677988.67\n",
       "..           ...         ...\n",
       "392   Cliente 95  3905119.75\n",
       "393   Cliente 96  2561528.59\n",
       "394   Cliente 97  2097478.54\n",
       "395   Cliente 98  1061069.15\n",
       "396   Cliente 99  2926683.20\n",
       "\n",
       "[397 rows x 2 columns]"
      ]
     },
     "execution_count": 9,
     "metadata": {},
     "output_type": "execute_result"
    }
   ],
   "source": [
    "# Patrimônio total por cliente\n",
    "\n",
    "patrimonio_por_cliente = dados.groupby('cliente')['patrimonio'].sum().reset_index()\n",
    "patrimonio_por_cliente"
   ]
  },
  {
   "cell_type": "code",
   "execution_count": 10,
   "id": "3e5b30ae",
   "metadata": {},
   "outputs": [
    {
     "data": {
      "text/html": [
       "<div>\n",
       "<style scoped>\n",
       "    .dataframe tbody tr th:only-of-type {\n",
       "        vertical-align: middle;\n",
       "    }\n",
       "\n",
       "    .dataframe tbody tr th {\n",
       "        vertical-align: top;\n",
       "    }\n",
       "\n",
       "    .dataframe thead th {\n",
       "        text-align: right;\n",
       "    }\n",
       "</style>\n",
       "<table border=\"1\" class=\"dataframe\">\n",
       "  <thead>\n",
       "    <tr style=\"text-align: right;\">\n",
       "      <th></th>\n",
       "      <th>cliente</th>\n",
       "      <th>codigo</th>\n",
       "      <th>prospeccao</th>\n",
       "      <th>atendimento</th>\n",
       "      <th>produto</th>\n",
       "      <th>data_ref</th>\n",
       "      <th>patrimonio</th>\n",
       "      <th>taxa_adm</th>\n",
       "      <th>cap_liq</th>\n",
       "      <th>segmento</th>\n",
       "    </tr>\n",
       "  </thead>\n",
       "  <tbody>\n",
       "    <tr>\n",
       "      <th>749</th>\n",
       "      <td>Cliente 228</td>\n",
       "      <td>Codigo 361</td>\n",
       "      <td>Prospeccao 5</td>\n",
       "      <td>Atendimento 3</td>\n",
       "      <td>Produto 2</td>\n",
       "      <td>2023-08-31</td>\n",
       "      <td>998781.25</td>\n",
       "      <td>75.0</td>\n",
       "      <td>0.00</td>\n",
       "      <td>Segmento 4</td>\n",
       "    </tr>\n",
       "    <tr>\n",
       "      <th>159</th>\n",
       "      <td>Cliente 128</td>\n",
       "      <td>Codigo 140</td>\n",
       "      <td>Prospeccao 1</td>\n",
       "      <td>Atendimento 1</td>\n",
       "      <td>Produto 1</td>\n",
       "      <td>2023-04-20</td>\n",
       "      <td>998464.92</td>\n",
       "      <td>58.5</td>\n",
       "      <td>994570.91</td>\n",
       "      <td>Segmento 4</td>\n",
       "    </tr>\n",
       "    <tr>\n",
       "      <th>650</th>\n",
       "      <td>Cliente 21</td>\n",
       "      <td>Codigo 36</td>\n",
       "      <td>Prospeccao 4</td>\n",
       "      <td>Atendimento 5</td>\n",
       "      <td>Produto 5</td>\n",
       "      <td>2023-07-06</td>\n",
       "      <td>998317.51</td>\n",
       "      <td>46.5</td>\n",
       "      <td>995222.73</td>\n",
       "      <td>Segmento 1</td>\n",
       "    </tr>\n",
       "    <tr>\n",
       "      <th>1096</th>\n",
       "      <td>Cliente 293</td>\n",
       "      <td>Codigo 361</td>\n",
       "      <td>Prospeccao 3</td>\n",
       "      <td>Atendimento 2</td>\n",
       "      <td>Produto 5</td>\n",
       "      <td>2023-11-11</td>\n",
       "      <td>998222.03</td>\n",
       "      <td>100.5</td>\n",
       "      <td>0.00</td>\n",
       "      <td>Segmento 5</td>\n",
       "    </tr>\n",
       "    <tr>\n",
       "      <th>1071</th>\n",
       "      <td>Cliente 287</td>\n",
       "      <td>Codigo 214</td>\n",
       "      <td>Prospeccao 5</td>\n",
       "      <td>Atendimento 1</td>\n",
       "      <td>Produto 2</td>\n",
       "      <td>2023-12-10</td>\n",
       "      <td>997946.43</td>\n",
       "      <td>102.0</td>\n",
       "      <td>0.00</td>\n",
       "      <td>Segmento 2</td>\n",
       "    </tr>\n",
       "  </tbody>\n",
       "</table>\n",
       "</div>"
      ],
      "text/plain": [
       "          cliente      codigo    prospeccao    atendimento    produto  \\\n",
       "749   Cliente 228  Codigo 361  Prospeccao 5  Atendimento 3  Produto 2   \n",
       "159   Cliente 128  Codigo 140  Prospeccao 1  Atendimento 1  Produto 1   \n",
       "650    Cliente 21   Codigo 36  Prospeccao 4  Atendimento 5  Produto 5   \n",
       "1096  Cliente 293  Codigo 361  Prospeccao 3  Atendimento 2  Produto 5   \n",
       "1071  Cliente 287  Codigo 214  Prospeccao 5  Atendimento 1  Produto 2   \n",
       "\n",
       "       data_ref  patrimonio  taxa_adm    cap_liq    segmento  \n",
       "749  2023-08-31   998781.25      75.0       0.00  Segmento 4  \n",
       "159  2023-04-20   998464.92      58.5  994570.91  Segmento 4  \n",
       "650  2023-07-06   998317.51      46.5  995222.73  Segmento 1  \n",
       "1096 2023-11-11   998222.03     100.5       0.00  Segmento 5  \n",
       "1071 2023-12-10   997946.43     102.0       0.00  Segmento 2  "
      ]
     },
     "execution_count": 10,
     "metadata": {},
     "output_type": "execute_result"
    }
   ],
   "source": [
    "# top 5 maiores patrimônios - clientes \n",
    "\n",
    "top5_maiores_patrimonios = dados.nlargest(5, 'patrimonio')\n",
    "top5_maiores_patrimonios"
   ]
  },
  {
   "cell_type": "code",
   "execution_count": 11,
   "id": "db8bc735",
   "metadata": {},
   "outputs": [
    {
     "data": {
      "text/html": [
       "<div>\n",
       "<style scoped>\n",
       "    .dataframe tbody tr th:only-of-type {\n",
       "        vertical-align: middle;\n",
       "    }\n",
       "\n",
       "    .dataframe tbody tr th {\n",
       "        vertical-align: top;\n",
       "    }\n",
       "\n",
       "    .dataframe thead th {\n",
       "        text-align: right;\n",
       "    }\n",
       "</style>\n",
       "<table border=\"1\" class=\"dataframe\">\n",
       "  <thead>\n",
       "    <tr style=\"text-align: right;\">\n",
       "      <th></th>\n",
       "      <th>cliente</th>\n",
       "      <th>codigo</th>\n",
       "      <th>prospeccao</th>\n",
       "      <th>atendimento</th>\n",
       "      <th>produto</th>\n",
       "      <th>data_ref</th>\n",
       "      <th>patrimonio</th>\n",
       "      <th>taxa_adm</th>\n",
       "      <th>cap_liq</th>\n",
       "      <th>segmento</th>\n",
       "    </tr>\n",
       "  </thead>\n",
       "  <tbody>\n",
       "    <tr>\n",
       "      <th>1115</th>\n",
       "      <td>Cliente 297</td>\n",
       "      <td>Codigo 89</td>\n",
       "      <td>Prospeccao 4</td>\n",
       "      <td>Atendimento 5</td>\n",
       "      <td>Produto 5</td>\n",
       "      <td>2023-01-31</td>\n",
       "      <td>10460.44</td>\n",
       "      <td>243.0</td>\n",
       "      <td>0.0</td>\n",
       "      <td>Segmento 2</td>\n",
       "    </tr>\n",
       "    <tr>\n",
       "      <th>1043</th>\n",
       "      <td>Cliente 282</td>\n",
       "      <td>Codigo 257</td>\n",
       "      <td>Prospeccao 1</td>\n",
       "      <td>Atendimento 3</td>\n",
       "      <td>Produto 3</td>\n",
       "      <td>2023-01-15</td>\n",
       "      <td>10579.21</td>\n",
       "      <td>210.0</td>\n",
       "      <td>0.0</td>\n",
       "      <td>Segmento 4</td>\n",
       "    </tr>\n",
       "    <tr>\n",
       "      <th>793</th>\n",
       "      <td>Cliente 235</td>\n",
       "      <td>Codigo 253</td>\n",
       "      <td>Prospeccao 3</td>\n",
       "      <td>Atendimento 5</td>\n",
       "      <td>Produto 4</td>\n",
       "      <td>2023-06-19</td>\n",
       "      <td>10719.99</td>\n",
       "      <td>36.0</td>\n",
       "      <td>0.0</td>\n",
       "      <td>Segmento 1</td>\n",
       "    </tr>\n",
       "    <tr>\n",
       "      <th>1749</th>\n",
       "      <td>Cliente 49</td>\n",
       "      <td>Codigo 473</td>\n",
       "      <td>Prospeccao 5</td>\n",
       "      <td>Atendimento 3</td>\n",
       "      <td>Produto 4</td>\n",
       "      <td>2023-05-29</td>\n",
       "      <td>11437.60</td>\n",
       "      <td>181.5</td>\n",
       "      <td>0.0</td>\n",
       "      <td>Segmento 2</td>\n",
       "    </tr>\n",
       "    <tr>\n",
       "      <th>69</th>\n",
       "      <td>Cliente 110</td>\n",
       "      <td>Codigo 10</td>\n",
       "      <td>Prospeccao 5</td>\n",
       "      <td>Atendimento 2</td>\n",
       "      <td>Produto 1</td>\n",
       "      <td>2023-01-02</td>\n",
       "      <td>11606.18</td>\n",
       "      <td>37.5</td>\n",
       "      <td>0.0</td>\n",
       "      <td>Segmento 1</td>\n",
       "    </tr>\n",
       "  </tbody>\n",
       "</table>\n",
       "</div>"
      ],
      "text/plain": [
       "          cliente      codigo    prospeccao    atendimento    produto  \\\n",
       "1115  Cliente 297   Codigo 89  Prospeccao 4  Atendimento 5  Produto 5   \n",
       "1043  Cliente 282  Codigo 257  Prospeccao 1  Atendimento 3  Produto 3   \n",
       "793   Cliente 235  Codigo 253  Prospeccao 3  Atendimento 5  Produto 4   \n",
       "1749   Cliente 49  Codigo 473  Prospeccao 5  Atendimento 3  Produto 4   \n",
       "69    Cliente 110   Codigo 10  Prospeccao 5  Atendimento 2  Produto 1   \n",
       "\n",
       "       data_ref  patrimonio  taxa_adm  cap_liq    segmento  \n",
       "1115 2023-01-31    10460.44     243.0      0.0  Segmento 2  \n",
       "1043 2023-01-15    10579.21     210.0      0.0  Segmento 4  \n",
       "793  2023-06-19    10719.99      36.0      0.0  Segmento 1  \n",
       "1749 2023-05-29    11437.60     181.5      0.0  Segmento 2  \n",
       "69   2023-01-02    11606.18      37.5      0.0  Segmento 1  "
      ]
     },
     "execution_count": 11,
     "metadata": {},
     "output_type": "execute_result"
    }
   ],
   "source": [
    "# top 5 menores patrimônios - clientes \n",
    "\n",
    "top5_menores_patrimonios = dados.nsmallest(5, 'patrimonio')\n",
    "top5_menores_patrimonios"
   ]
  },
  {
   "cell_type": "markdown",
   "id": "3783824d",
   "metadata": {},
   "source": [
    "# Patrimônio Total por Atendimento e segmento com maior patrimonio"
   ]
  },
  {
   "cell_type": "code",
   "execution_count": 12,
   "id": "a639a062",
   "metadata": {},
   "outputs": [
    {
     "data": {
      "text/plain": [
       "atendimento\n",
       "Atendimento 1    1.988459e+08\n",
       "Atendimento 2    1.988916e+08\n",
       "Atendimento 3    2.261170e+08\n",
       "Atendimento 4    1.808506e+08\n",
       "Atendimento 5    2.075554e+08\n",
       "Name: patrimonio, dtype: float64"
      ]
     },
     "execution_count": 12,
     "metadata": {},
     "output_type": "execute_result"
    }
   ],
   "source": [
    "# Supondo que 'dados' é o DataFrame que contém as colunas 'Atendimento' e 'Patrimonio'\n",
    "\n",
    "patrimonio_por_atendimento = dados.groupby('atendimento')['patrimonio'].sum()\n",
    "patrimonio_por_atendimento"
   ]
  },
  {
   "cell_type": "code",
   "execution_count": 13,
   "id": "4221b915",
   "metadata": {},
   "outputs": [],
   "source": [
    "# Atendimento 1    198.845.900\n",
    "# Atendimento 2    198.891.600\n",
    "# Atendimento 3    226.117.000\n",
    "# Atendimento 4    180.850.600\n",
    "# Atendimento 5    207.555.400"
   ]
  },
  {
   "cell_type": "code",
   "execution_count": 14,
   "id": "52b112f7",
   "metadata": {},
   "outputs": [
    {
     "data": {
      "text/plain": [
       "205654590.3"
      ]
     },
     "execution_count": 14,
     "metadata": {},
     "output_type": "execute_result"
    }
   ],
   "source": [
    "# MAIOR PATRIMONIO\n",
    "\n",
    "patrimonio_por_segmento = dados.groupby('segmento')['patrimonio'].sum()\n",
    "segmento_maior_patrimonio = patrimonio_por_segmento.idxmax()\n",
    "maior_patrimonio = patrimonio_por_segmento.max()\n",
    "maior_patrimonio"
   ]
  },
  {
   "cell_type": "code",
   "execution_count": 15,
   "id": "2e9c7fa7",
   "metadata": {},
   "outputs": [
    {
     "data": {
      "text/plain": [
       "'Segmento 4'"
      ]
     },
     "execution_count": 15,
     "metadata": {},
     "output_type": "execute_result"
    }
   ],
   "source": [
    "segmento_maior_patrimonio"
   ]
  },
  {
   "cell_type": "markdown",
   "id": "88693a2b",
   "metadata": {},
   "source": [
    "# Repasse para Cada Atendimento e Prospecção"
   ]
  },
  {
   "cell_type": "code",
   "execution_count": 16,
   "id": "161cabfb",
   "metadata": {
    "scrolled": true
   },
   "outputs": [
    {
     "data": {
      "text/html": [
       "<div>\n",
       "<style scoped>\n",
       "    .dataframe tbody tr th:only-of-type {\n",
       "        vertical-align: middle;\n",
       "    }\n",
       "\n",
       "    .dataframe tbody tr th {\n",
       "        vertical-align: top;\n",
       "    }\n",
       "\n",
       "    .dataframe thead th {\n",
       "        text-align: right;\n",
       "    }\n",
       "</style>\n",
       "<table border=\"1\" class=\"dataframe\">\n",
       "  <thead>\n",
       "    <tr style=\"text-align: right;\">\n",
       "      <th></th>\n",
       "      <th>cliente</th>\n",
       "      <th>codigo</th>\n",
       "      <th>prospeccao</th>\n",
       "      <th>atendimento</th>\n",
       "      <th>produto</th>\n",
       "      <th>data_ref</th>\n",
       "      <th>patrimonio</th>\n",
       "      <th>taxa_adm</th>\n",
       "      <th>cap_liq</th>\n",
       "      <th>segmento</th>\n",
       "      <th>repasse</th>\n",
       "    </tr>\n",
       "  </thead>\n",
       "  <tbody>\n",
       "    <tr>\n",
       "      <th>0</th>\n",
       "      <td>Cliente 1</td>\n",
       "      <td>Codigo 485</td>\n",
       "      <td>Prospeccao 4</td>\n",
       "      <td>Atendimento 5</td>\n",
       "      <td>Produto 2</td>\n",
       "      <td>2023-09-10</td>\n",
       "      <td>569538.44</td>\n",
       "      <td>39.0</td>\n",
       "      <td>568057.64</td>\n",
       "      <td>Segmento 3</td>\n",
       "      <td>23.4</td>\n",
       "    </tr>\n",
       "    <tr>\n",
       "      <th>1</th>\n",
       "      <td>Cliente 1</td>\n",
       "      <td>Codigo 332</td>\n",
       "      <td>Prospeccao 5</td>\n",
       "      <td>Atendimento 2</td>\n",
       "      <td>Produto 4</td>\n",
       "      <td>2023-04-17</td>\n",
       "      <td>198650.85</td>\n",
       "      <td>99.0</td>\n",
       "      <td>197339.75</td>\n",
       "      <td>Segmento 5</td>\n",
       "      <td>59.4</td>\n",
       "    </tr>\n",
       "    <tr>\n",
       "      <th>2</th>\n",
       "      <td>Cliente 1</td>\n",
       "      <td>Codigo 223</td>\n",
       "      <td>Prospeccao 3</td>\n",
       "      <td>Atendimento 3</td>\n",
       "      <td>Produto 3</td>\n",
       "      <td>2023-11-14</td>\n",
       "      <td>862405.42</td>\n",
       "      <td>22.5</td>\n",
       "      <td>861111.81</td>\n",
       "      <td>Segmento 3</td>\n",
       "      <td>13.5</td>\n",
       "    </tr>\n",
       "    <tr>\n",
       "      <th>3</th>\n",
       "      <td>Cliente 1</td>\n",
       "      <td>Codigo 143</td>\n",
       "      <td>Prospeccao 4</td>\n",
       "      <td>Atendimento 4</td>\n",
       "      <td>Produto 4</td>\n",
       "      <td>2023-03-30</td>\n",
       "      <td>815386.28</td>\n",
       "      <td>144.0</td>\n",
       "      <td>807558.57</td>\n",
       "      <td>Segmento 3</td>\n",
       "      <td>86.4</td>\n",
       "    </tr>\n",
       "    <tr>\n",
       "      <th>4</th>\n",
       "      <td>Cliente 1</td>\n",
       "      <td>Codigo 137</td>\n",
       "      <td>Prospeccao 4</td>\n",
       "      <td>Atendimento 3</td>\n",
       "      <td>Produto 1</td>\n",
       "      <td>2023-06-30</td>\n",
       "      <td>153715.42</td>\n",
       "      <td>159.0</td>\n",
       "      <td>152086.04</td>\n",
       "      <td>Segmento 4</td>\n",
       "      <td>95.4</td>\n",
       "    </tr>\n",
       "    <tr>\n",
       "      <th>...</th>\n",
       "      <td>...</td>\n",
       "      <td>...</td>\n",
       "      <td>...</td>\n",
       "      <td>...</td>\n",
       "      <td>...</td>\n",
       "      <td>...</td>\n",
       "      <td>...</td>\n",
       "      <td>...</td>\n",
       "      <td>...</td>\n",
       "      <td>...</td>\n",
       "      <td>...</td>\n",
       "    </tr>\n",
       "    <tr>\n",
       "      <th>1995</th>\n",
       "      <td>Cliente 99</td>\n",
       "      <td>Codigo 380</td>\n",
       "      <td>Prospeccao 3</td>\n",
       "      <td>Atendimento 3</td>\n",
       "      <td>Produto 3</td>\n",
       "      <td>2023-01-02</td>\n",
       "      <td>356733.11</td>\n",
       "      <td>180.0</td>\n",
       "      <td>0.00</td>\n",
       "      <td>Segmento 5</td>\n",
       "      <td>108.0</td>\n",
       "    </tr>\n",
       "    <tr>\n",
       "      <th>1996</th>\n",
       "      <td>Cliente 99</td>\n",
       "      <td>Codigo 288</td>\n",
       "      <td>Prospeccao 2</td>\n",
       "      <td>Atendimento 5</td>\n",
       "      <td>Produto 4</td>\n",
       "      <td>2023-11-23</td>\n",
       "      <td>615790.47</td>\n",
       "      <td>187.5</td>\n",
       "      <td>0.00</td>\n",
       "      <td>Segmento 4</td>\n",
       "      <td>112.5</td>\n",
       "    </tr>\n",
       "    <tr>\n",
       "      <th>1997</th>\n",
       "      <td>Cliente 99</td>\n",
       "      <td>Codigo 428</td>\n",
       "      <td>Prospeccao 2</td>\n",
       "      <td>Atendimento 1</td>\n",
       "      <td>Produto 4</td>\n",
       "      <td>2023-01-25</td>\n",
       "      <td>255087.43</td>\n",
       "      <td>16.5</td>\n",
       "      <td>0.00</td>\n",
       "      <td>Segmento 1</td>\n",
       "      <td>9.9</td>\n",
       "    </tr>\n",
       "    <tr>\n",
       "      <th>1998</th>\n",
       "      <td>Cliente 99</td>\n",
       "      <td>Codigo 203</td>\n",
       "      <td>Prospeccao 5</td>\n",
       "      <td>Atendimento 2</td>\n",
       "      <td>Produto 2</td>\n",
       "      <td>2023-12-06</td>\n",
       "      <td>921229.17</td>\n",
       "      <td>109.5</td>\n",
       "      <td>0.00</td>\n",
       "      <td>Segmento 4</td>\n",
       "      <td>65.7</td>\n",
       "    </tr>\n",
       "    <tr>\n",
       "      <th>1999</th>\n",
       "      <td>Cliente 99</td>\n",
       "      <td>Codigo 436</td>\n",
       "      <td>Prospeccao 5</td>\n",
       "      <td>Atendimento 3</td>\n",
       "      <td>Produto 2</td>\n",
       "      <td>2023-08-26</td>\n",
       "      <td>777843.02</td>\n",
       "      <td>202.5</td>\n",
       "      <td>0.00</td>\n",
       "      <td>Segmento 2</td>\n",
       "      <td>121.5</td>\n",
       "    </tr>\n",
       "  </tbody>\n",
       "</table>\n",
       "<p>2000 rows × 11 columns</p>\n",
       "</div>"
      ],
      "text/plain": [
       "         cliente      codigo    prospeccao    atendimento    produto  \\\n",
       "0      Cliente 1  Codigo 485  Prospeccao 4  Atendimento 5  Produto 2   \n",
       "1      Cliente 1  Codigo 332  Prospeccao 5  Atendimento 2  Produto 4   \n",
       "2      Cliente 1  Codigo 223  Prospeccao 3  Atendimento 3  Produto 3   \n",
       "3      Cliente 1  Codigo 143  Prospeccao 4  Atendimento 4  Produto 4   \n",
       "4      Cliente 1  Codigo 137  Prospeccao 4  Atendimento 3  Produto 1   \n",
       "...          ...         ...           ...            ...        ...   \n",
       "1995  Cliente 99  Codigo 380  Prospeccao 3  Atendimento 3  Produto 3   \n",
       "1996  Cliente 99  Codigo 288  Prospeccao 2  Atendimento 5  Produto 4   \n",
       "1997  Cliente 99  Codigo 428  Prospeccao 2  Atendimento 1  Produto 4   \n",
       "1998  Cliente 99  Codigo 203  Prospeccao 5  Atendimento 2  Produto 2   \n",
       "1999  Cliente 99  Codigo 436  Prospeccao 5  Atendimento 3  Produto 2   \n",
       "\n",
       "       data_ref  patrimonio  taxa_adm    cap_liq    segmento  repasse  \n",
       "0    2023-09-10   569538.44      39.0  568057.64  Segmento 3     23.4  \n",
       "1    2023-04-17   198650.85      99.0  197339.75  Segmento 5     59.4  \n",
       "2    2023-11-14   862405.42      22.5  861111.81  Segmento 3     13.5  \n",
       "3    2023-03-30   815386.28     144.0  807558.57  Segmento 3     86.4  \n",
       "4    2023-06-30   153715.42     159.0  152086.04  Segmento 4     95.4  \n",
       "...         ...         ...       ...        ...         ...      ...  \n",
       "1995 2023-01-02   356733.11     180.0       0.00  Segmento 5    108.0  \n",
       "1996 2023-11-23   615790.47     187.5       0.00  Segmento 4    112.5  \n",
       "1997 2023-01-25   255087.43      16.5       0.00  Segmento 1      9.9  \n",
       "1998 2023-12-06   921229.17     109.5       0.00  Segmento 4     65.7  \n",
       "1999 2023-08-26   777843.02     202.5       0.00  Segmento 2    121.5  \n",
       "\n",
       "[2000 rows x 11 columns]"
      ]
     },
     "execution_count": 16,
     "metadata": {},
     "output_type": "execute_result"
    }
   ],
   "source": [
    "def calcular_repasse(row):\n",
    "    if row['produto'] == 1:\n",
    "        if row['prospeccao'] == row['atendimento']:\n",
    "            return row['Taxa_adm'] * 0.6  \n",
    "        else:\n",
    "            return row['taxa_adm'] * 0.45 + row['taxa_adm'] * 0.15  \n",
    "    else:\n",
    "        if row['prospeccao'] == row['atendimento']:\n",
    "            return row['taxa_adm'] * 0.8 \n",
    "        else:\n",
    "            return row['taxa_adm'] * 0.6 \n",
    "\n",
    "\n",
    "dados['repasse'] = dados.apply(calcular_repasse, axis=1)\n",
    "dados"
   ]
  },
  {
   "cell_type": "markdown",
   "id": "7b9d46e2",
   "metadata": {},
   "source": [
    "# - media do repasse para cada combinação de tipos de prospecção e atendimento"
   ]
  },
  {
   "cell_type": "code",
   "execution_count": 17,
   "id": "26b58640",
   "metadata": {},
   "outputs": [
    {
     "data": {
      "text/html": [
       "<div>\n",
       "<style scoped>\n",
       "    .dataframe tbody tr th:only-of-type {\n",
       "        vertical-align: middle;\n",
       "    }\n",
       "\n",
       "    .dataframe tbody tr th {\n",
       "        vertical-align: top;\n",
       "    }\n",
       "\n",
       "    .dataframe thead th {\n",
       "        text-align: right;\n",
       "    }\n",
       "</style>\n",
       "<table border=\"1\" class=\"dataframe\">\n",
       "  <thead>\n",
       "    <tr style=\"text-align: right;\">\n",
       "      <th>atendimento</th>\n",
       "      <th>Atendimento 1</th>\n",
       "      <th>Atendimento 2</th>\n",
       "      <th>Atendimento 3</th>\n",
       "      <th>Atendimento 4</th>\n",
       "      <th>Atendimento 5</th>\n",
       "    </tr>\n",
       "    <tr>\n",
       "      <th>prospeccao</th>\n",
       "      <th></th>\n",
       "      <th></th>\n",
       "      <th></th>\n",
       "      <th></th>\n",
       "      <th></th>\n",
       "    </tr>\n",
       "  </thead>\n",
       "  <tbody>\n",
       "    <tr>\n",
       "      <th>Prospeccao 1</th>\n",
       "      <td>96.797647</td>\n",
       "      <td>99.400000</td>\n",
       "      <td>99.060000</td>\n",
       "      <td>96.201370</td>\n",
       "      <td>84.060000</td>\n",
       "    </tr>\n",
       "    <tr>\n",
       "      <th>Prospeccao 2</th>\n",
       "      <td>98.454930</td>\n",
       "      <td>90.568966</td>\n",
       "      <td>88.803797</td>\n",
       "      <td>92.008537</td>\n",
       "      <td>94.500000</td>\n",
       "    </tr>\n",
       "    <tr>\n",
       "      <th>Prospeccao 3</th>\n",
       "      <td>91.136250</td>\n",
       "      <td>93.934615</td>\n",
       "      <td>98.764615</td>\n",
       "      <td>101.870270</td>\n",
       "      <td>91.551724</td>\n",
       "    </tr>\n",
       "    <tr>\n",
       "      <th>Prospeccao 4</th>\n",
       "      <td>94.133333</td>\n",
       "      <td>90.430435</td>\n",
       "      <td>90.369474</td>\n",
       "      <td>96.376271</td>\n",
       "      <td>87.280000</td>\n",
       "    </tr>\n",
       "    <tr>\n",
       "      <th>Prospeccao 5</th>\n",
       "      <td>88.594521</td>\n",
       "      <td>88.493023</td>\n",
       "      <td>99.558000</td>\n",
       "      <td>93.429114</td>\n",
       "      <td>92.234831</td>\n",
       "    </tr>\n",
       "  </tbody>\n",
       "</table>\n",
       "</div>"
      ],
      "text/plain": [
       "atendimento   Atendimento 1  Atendimento 2  Atendimento 3  Atendimento 4  \\\n",
       "prospeccao                                                                 \n",
       "Prospeccao 1      96.797647      99.400000      99.060000      96.201370   \n",
       "Prospeccao 2      98.454930      90.568966      88.803797      92.008537   \n",
       "Prospeccao 3      91.136250      93.934615      98.764615     101.870270   \n",
       "Prospeccao 4      94.133333      90.430435      90.369474      96.376271   \n",
       "Prospeccao 5      88.594521      88.493023      99.558000      93.429114   \n",
       "\n",
       "atendimento   Atendimento 5  \n",
       "prospeccao                   \n",
       "Prospeccao 1      84.060000  \n",
       "Prospeccao 2      94.500000  \n",
       "Prospeccao 3      91.551724  \n",
       "Prospeccao 4      87.280000  \n",
       "Prospeccao 5      92.234831  "
      ]
     },
     "execution_count": 17,
     "metadata": {},
     "output_type": "execute_result"
    }
   ],
   "source": [
    "media_repasse = dados.groupby(['prospeccao', 'atendimento'])['repasse'].mean()\n",
    "media_repasse.unstack()\n"
   ]
  },
  {
   "cell_type": "markdown",
   "id": "75100cae",
   "metadata": {},
   "source": [
    "# Captação por Mês e no Ano"
   ]
  },
  {
   "cell_type": "code",
   "execution_count": 18,
   "id": "6d084359",
   "metadata": {},
   "outputs": [
    {
     "data": {
      "text/plain": [
       "data_ref\n",
       "2023-01     8145787.28\n",
       "2023-02     7556801.00\n",
       "2023-03     7835118.51\n",
       "2023-04     9909621.47\n",
       "2023-05    12569321.10\n",
       "2023-06     6828874.80\n",
       "2023-07     8027909.61\n",
       "2023-08    12768287.82\n",
       "2023-09     5209249.22\n",
       "2023-10     9373724.11\n",
       "2023-11    11993072.25\n",
       "2023-12     7731198.48\n",
       "Freq: M, Name: cap_liq, dtype: float64"
      ]
     },
     "execution_count": 18,
     "metadata": {},
     "output_type": "execute_result"
    }
   ],
   "source": [
    "# CAPTACAO POR MES\n",
    "\n",
    "captacao_por_mês = dados.groupby(dados['data_ref'].dt.to_period('M'))['cap_liq'].sum()\n",
    "captacao_por_mês\n"
   ]
  },
  {
   "cell_type": "code",
   "execution_count": 19,
   "id": "4a3e553e",
   "metadata": {},
   "outputs": [
    {
     "data": {
      "text/plain": [
       "107948965.65"
      ]
     },
     "execution_count": 19,
     "metadata": {},
     "output_type": "execute_result"
    }
   ],
   "source": [
    "# CAPTACAO POR ANO\n",
    "\n",
    "captacao_no_ano = dados['cap_liq'].sum()\n",
    "captacao_no_ano"
   ]
  },
  {
   "cell_type": "markdown",
   "id": "f99f1420",
   "metadata": {},
   "source": [
    "# Número de Clientes por Segmento"
   ]
  },
  {
   "cell_type": "code",
   "execution_count": 20,
   "id": "c81406f1",
   "metadata": {},
   "outputs": [
    {
     "data": {
      "text/plain": [
       "segmento\n",
       "Segmento 1    248\n",
       "Segmento 2    256\n",
       "Segmento 3    255\n",
       "Segmento 4    252\n",
       "Segmento 5    255\n",
       "Name: cliente, dtype: int64"
      ]
     },
     "execution_count": 20,
     "metadata": {},
     "output_type": "execute_result"
    }
   ],
   "source": [
    "# QUANTIDADE DE CLIENTES POR SEGMENTO \n",
    "\n",
    "clientes_por_segmento = dados.groupby('segmento')['cliente'].nunique()\n",
    "clientes_por_segmento"
   ]
  },
  {
   "cell_type": "markdown",
   "id": "ea5a56e4",
   "metadata": {},
   "source": [
    "## - media de clientes por segmento"
   ]
  },
  {
   "cell_type": "code",
   "execution_count": 21,
   "id": "2cd16dc1",
   "metadata": {},
   "outputs": [
    {
     "data": {
      "text/plain": [
       "253.2"
      ]
     },
     "execution_count": 21,
     "metadata": {},
     "output_type": "execute_result"
    }
   ],
   "source": [
    "media_clientes_por_segmento = clientes_por_segmento.mean()\n",
    "media_clientes_por_segmento\n"
   ]
  },
  {
   "cell_type": "markdown",
   "id": "b164c0b9",
   "metadata": {},
   "source": [
    "# Evolução da Quantidade de Clientes Mensais"
   ]
  },
  {
   "cell_type": "code",
   "execution_count": 22,
   "id": "caaedb4c",
   "metadata": {
    "scrolled": true
   },
   "outputs": [
    {
     "data": {
      "text/plain": [
       "mes\n",
       "2023-01    136\n",
       "2023-02    114\n",
       "2023-03    133\n",
       "2023-04    146\n",
       "2023-05    132\n",
       "2023-06    127\n",
       "2023-07    139\n",
       "2023-08    149\n",
       "2023-09    129\n",
       "2023-10    147\n",
       "2023-11    131\n",
       "2023-12    135\n",
       "Freq: M, Name: cliente, dtype: int64"
      ]
     },
     "execution_count": 22,
     "metadata": {},
     "output_type": "execute_result"
    }
   ],
   "source": [
    "# EVOLUÇÃO DA QUNATIDADE DE CLIENTES MENSAIS \n",
    "\n",
    "dados['data_ref'] = pd.to_datetime(dados['data_ref'])\n",
    "dados['mes'] = dados['data_ref'].dt.to_period('M')\n",
    "clientes_por_mes = dados.groupby('mes')['cliente'].nunique()\n",
    "clientes_por_mes"
   ]
  },
  {
   "cell_type": "code",
   "execution_count": 23,
   "id": "17e00864",
   "metadata": {},
   "outputs": [
    {
     "data": {
      "image/png": "[encoded data removed]",
      "text/plain": [
       "<Figure size 1000x600 with 1 Axes>"
      ]
     },
     "metadata": {},
     "output_type": "display_data"
    }
   ],
   "source": [
    "clientes_por_mes = dados.groupby('mes')['cliente'].nunique()\n",
    "plt.figure(figsize=(10, 6))\n",
    "plt.plot(clientes_por_mes.index.astype(str), clientes_por_mes.values, marker='o', linestyle='-', color='purple', label='Clientes por mês')\n",
    "plt.title('Evolução da Quantidade de Clientes Mensais')\n",
    "plt.xlabel('Mês')\n",
    "plt.ylabel('Quantidade de Clientes')\n",
    "plt.xticks(rotation=30)\n",
    "plt.legend()  \n",
    "plt.grid(True)\n",
    "plt.tight_layout()\n",
    "plt.show()"
   ]
  },
  {
   "cell_type": "markdown",
   "id": "0d316e9b",
   "metadata": {},
   "source": [
    "# Número de Clientes por Produto"
   ]
  },
  {
   "cell_type": "code",
   "execution_count": 24,
   "id": "c39ae51a",
   "metadata": {},
   "outputs": [
    {
     "data": {
      "text/plain": [
       "produto\n",
       "Produto 1    244\n",
       "Produto 2    252\n",
       "Produto 3    261\n",
       "Produto 4    241\n",
       "Produto 5    246\n",
       "Name: cliente, dtype: int64"
      ]
     },
     "execution_count": 24,
     "metadata": {},
     "output_type": "execute_result"
    }
   ],
   "source": [
    "# QUANTIDADE DE CLIENTES POR PRODUTO \n",
    "\n",
    "clientes_por_produto = dados.groupby('produto')['cliente'].nunique()\n",
    "clientes_por_produto"
   ]
  },
  {
   "cell_type": "markdown",
   "id": "b5cc2119",
   "metadata": {},
   "source": [
    "## - media de clientes por produto"
   ]
  },
  {
   "cell_type": "code",
   "execution_count": 25,
   "id": "f92753dc",
   "metadata": {},
   "outputs": [
    {
     "data": {
      "text/plain": [
       "248.8"
      ]
     },
     "execution_count": 25,
     "metadata": {},
     "output_type": "execute_result"
    }
   ],
   "source": [
    "media_clientes_por_produto = clientes_por_produto.mean()\n",
    "media_clientes_por_produto"
   ]
  },
  {
   "cell_type": "markdown",
   "id": "b0abddc8",
   "metadata": {},
   "source": [
    "# Atendimento que Gerou Maior Taxa de Adm"
   ]
  },
  {
   "cell_type": "code",
   "execution_count": 26,
   "id": "9bfe6a32",
   "metadata": {},
   "outputs": [
    {
     "data": {
      "text/plain": [
       "cliente\n",
       "Cliente 1       619.5\n",
       "Cliente 10      559.5\n",
       "Cliente 100     738.0\n",
       "Cliente 101    1069.5\n",
       "Cliente 102     577.5\n",
       "                ...  \n",
       "Cliente 95      837.0\n",
       "Cliente 96      991.5\n",
       "Cliente 97      613.5\n",
       "Cliente 98      475.5\n",
       "Cliente 99      696.0\n",
       "Name: taxa_adm, Length: 397, dtype: float64"
      ]
     },
     "execution_count": 26,
     "metadata": {},
     "output_type": "execute_result"
    }
   ],
   "source": [
    "# QUEM GEROU A MAIOR TAXA DE ADM\n",
    "\n",
    "taxa_adm_por_cliente = dados.groupby('cliente')['taxa_adm'].sum()\n",
    "taxa_adm_por_cliente"
   ]
  },
  {
   "cell_type": "code",
   "execution_count": 27,
   "id": "34eb1ec3",
   "metadata": {},
   "outputs": [
    {
     "data": {
      "text/plain": [
       "'Cliente 180'"
      ]
     },
     "execution_count": 27,
     "metadata": {},
     "output_type": "execute_result"
    }
   ],
   "source": [
    "# Encontrando o cliente que gerou a maior taxa de administração\n",
    "\n",
    "cliente_maior_taxa_adm = taxa_adm_por_cliente.idxmax()\n",
    "cliente_maior_taxa_adm"
   ]
  },
  {
   "cell_type": "code",
   "execution_count": 28,
   "id": "abb857e7",
   "metadata": {},
   "outputs": [
    {
     "data": {
      "text/html": [
       "<div>\n",
       "<style scoped>\n",
       "    .dataframe tbody tr th:only-of-type {\n",
       "        vertical-align: middle;\n",
       "    }\n",
       "\n",
       "    .dataframe tbody tr th {\n",
       "        vertical-align: top;\n",
       "    }\n",
       "\n",
       "    .dataframe thead th {\n",
       "        text-align: right;\n",
       "    }\n",
       "</style>\n",
       "<table border=\"1\" class=\"dataframe\">\n",
       "  <thead>\n",
       "    <tr style=\"text-align: right;\">\n",
       "      <th></th>\n",
       "      <th>cliente</th>\n",
       "      <th>codigo</th>\n",
       "      <th>prospeccao</th>\n",
       "      <th>atendimento</th>\n",
       "      <th>produto</th>\n",
       "      <th>data_ref</th>\n",
       "      <th>patrimonio</th>\n",
       "      <th>taxa_adm</th>\n",
       "      <th>cap_liq</th>\n",
       "      <th>segmento</th>\n",
       "      <th>repasse</th>\n",
       "      <th>mes</th>\n",
       "    </tr>\n",
       "  </thead>\n",
       "  <tbody>\n",
       "    <tr>\n",
       "      <th>471</th>\n",
       "      <td>Cliente 180</td>\n",
       "      <td>Codigo 262</td>\n",
       "      <td>Prospeccao 3</td>\n",
       "      <td>Atendimento 1</td>\n",
       "      <td>Produto 5</td>\n",
       "      <td>2023-07-23</td>\n",
       "      <td>733774.80</td>\n",
       "      <td>246.0</td>\n",
       "      <td>0.0</td>\n",
       "      <td>Segmento 2</td>\n",
       "      <td>147.6</td>\n",
       "      <td>2023-07</td>\n",
       "    </tr>\n",
       "    <tr>\n",
       "      <th>472</th>\n",
       "      <td>Cliente 180</td>\n",
       "      <td>Codigo 239</td>\n",
       "      <td>Prospeccao 3</td>\n",
       "      <td>Atendimento 5</td>\n",
       "      <td>Produto 1</td>\n",
       "      <td>2023-03-06</td>\n",
       "      <td>939389.86</td>\n",
       "      <td>234.0</td>\n",
       "      <td>0.0</td>\n",
       "      <td>Segmento 1</td>\n",
       "      <td>140.4</td>\n",
       "      <td>2023-03</td>\n",
       "    </tr>\n",
       "    <tr>\n",
       "      <th>473</th>\n",
       "      <td>Cliente 180</td>\n",
       "      <td>Codigo 365</td>\n",
       "      <td>Prospeccao 4</td>\n",
       "      <td>Atendimento 2</td>\n",
       "      <td>Produto 5</td>\n",
       "      <td>2023-12-18</td>\n",
       "      <td>510613.67</td>\n",
       "      <td>298.5</td>\n",
       "      <td>0.0</td>\n",
       "      <td>Segmento 2</td>\n",
       "      <td>179.1</td>\n",
       "      <td>2023-12</td>\n",
       "    </tr>\n",
       "    <tr>\n",
       "      <th>474</th>\n",
       "      <td>Cliente 180</td>\n",
       "      <td>Codigo 309</td>\n",
       "      <td>Prospeccao 3</td>\n",
       "      <td>Atendimento 1</td>\n",
       "      <td>Produto 5</td>\n",
       "      <td>2023-12-01</td>\n",
       "      <td>474303.34</td>\n",
       "      <td>117.0</td>\n",
       "      <td>0.0</td>\n",
       "      <td>Segmento 3</td>\n",
       "      <td>70.2</td>\n",
       "      <td>2023-12</td>\n",
       "    </tr>\n",
       "    <tr>\n",
       "      <th>475</th>\n",
       "      <td>Cliente 180</td>\n",
       "      <td>Codigo 283</td>\n",
       "      <td>Prospeccao 2</td>\n",
       "      <td>Atendimento 1</td>\n",
       "      <td>Produto 1</td>\n",
       "      <td>2023-03-29</td>\n",
       "      <td>370973.74</td>\n",
       "      <td>186.0</td>\n",
       "      <td>0.0</td>\n",
       "      <td>Segmento 1</td>\n",
       "      <td>111.6</td>\n",
       "      <td>2023-03</td>\n",
       "    </tr>\n",
       "    <tr>\n",
       "      <th>476</th>\n",
       "      <td>Cliente 180</td>\n",
       "      <td>Codigo 405</td>\n",
       "      <td>Prospeccao 3</td>\n",
       "      <td>Atendimento 4</td>\n",
       "      <td>Produto 5</td>\n",
       "      <td>2023-08-13</td>\n",
       "      <td>721796.92</td>\n",
       "      <td>223.5</td>\n",
       "      <td>0.0</td>\n",
       "      <td>Segmento 5</td>\n",
       "      <td>134.1</td>\n",
       "      <td>2023-08</td>\n",
       "    </tr>\n",
       "    <tr>\n",
       "      <th>477</th>\n",
       "      <td>Cliente 180</td>\n",
       "      <td>Codigo 445</td>\n",
       "      <td>Prospeccao 5</td>\n",
       "      <td>Atendimento 3</td>\n",
       "      <td>Produto 3</td>\n",
       "      <td>2023-01-31</td>\n",
       "      <td>285189.11</td>\n",
       "      <td>85.5</td>\n",
       "      <td>0.0</td>\n",
       "      <td>Segmento 4</td>\n",
       "      <td>51.3</td>\n",
       "      <td>2023-01</td>\n",
       "    </tr>\n",
       "    <tr>\n",
       "      <th>478</th>\n",
       "      <td>Cliente 180</td>\n",
       "      <td>Codigo 210</td>\n",
       "      <td>Prospeccao 5</td>\n",
       "      <td>Atendimento 2</td>\n",
       "      <td>Produto 1</td>\n",
       "      <td>2023-07-23</td>\n",
       "      <td>785154.67</td>\n",
       "      <td>72.0</td>\n",
       "      <td>0.0</td>\n",
       "      <td>Segmento 3</td>\n",
       "      <td>43.2</td>\n",
       "      <td>2023-07</td>\n",
       "    </tr>\n",
       "    <tr>\n",
       "      <th>479</th>\n",
       "      <td>Cliente 180</td>\n",
       "      <td>Codigo 109</td>\n",
       "      <td>Prospeccao 2</td>\n",
       "      <td>Atendimento 3</td>\n",
       "      <td>Produto 5</td>\n",
       "      <td>2023-01-11</td>\n",
       "      <td>777211.34</td>\n",
       "      <td>181.5</td>\n",
       "      <td>0.0</td>\n",
       "      <td>Segmento 5</td>\n",
       "      <td>108.9</td>\n",
       "      <td>2023-01</td>\n",
       "    </tr>\n",
       "    <tr>\n",
       "      <th>480</th>\n",
       "      <td>Cliente 180</td>\n",
       "      <td>Codigo 236</td>\n",
       "      <td>Prospeccao 3</td>\n",
       "      <td>Atendimento 3</td>\n",
       "      <td>Produto 5</td>\n",
       "      <td>2023-05-17</td>\n",
       "      <td>319593.22</td>\n",
       "      <td>36.0</td>\n",
       "      <td>0.0</td>\n",
       "      <td>Segmento 3</td>\n",
       "      <td>21.6</td>\n",
       "      <td>2023-05</td>\n",
       "    </tr>\n",
       "    <tr>\n",
       "      <th>481</th>\n",
       "      <td>Cliente 180</td>\n",
       "      <td>Codigo 467</td>\n",
       "      <td>Prospeccao 1</td>\n",
       "      <td>Atendimento 1</td>\n",
       "      <td>Produto 4</td>\n",
       "      <td>2023-01-20</td>\n",
       "      <td>179337.97</td>\n",
       "      <td>156.0</td>\n",
       "      <td>0.0</td>\n",
       "      <td>Segmento 1</td>\n",
       "      <td>93.6</td>\n",
       "      <td>2023-01</td>\n",
       "    </tr>\n",
       "    <tr>\n",
       "      <th>482</th>\n",
       "      <td>Cliente 180</td>\n",
       "      <td>Codigo 487</td>\n",
       "      <td>Prospeccao 2</td>\n",
       "      <td>Atendimento 5</td>\n",
       "      <td>Produto 1</td>\n",
       "      <td>2023-03-17</td>\n",
       "      <td>753431.81</td>\n",
       "      <td>244.5</td>\n",
       "      <td>0.0</td>\n",
       "      <td>Segmento 4</td>\n",
       "      <td>146.7</td>\n",
       "      <td>2023-03</td>\n",
       "    </tr>\n",
       "    <tr>\n",
       "      <th>483</th>\n",
       "      <td>Cliente 180</td>\n",
       "      <td>Codigo 461</td>\n",
       "      <td>Prospeccao 1</td>\n",
       "      <td>Atendimento 3</td>\n",
       "      <td>Produto 4</td>\n",
       "      <td>2023-07-03</td>\n",
       "      <td>265286.08</td>\n",
       "      <td>195.0</td>\n",
       "      <td>0.0</td>\n",
       "      <td>Segmento 4</td>\n",
       "      <td>117.0</td>\n",
       "      <td>2023-07</td>\n",
       "    </tr>\n",
       "  </tbody>\n",
       "</table>\n",
       "</div>"
      ],
      "text/plain": [
       "         cliente      codigo    prospeccao    atendimento    produto  \\\n",
       "471  Cliente 180  Codigo 262  Prospeccao 3  Atendimento 1  Produto 5   \n",
       "472  Cliente 180  Codigo 239  Prospeccao 3  Atendimento 5  Produto 1   \n",
       "473  Cliente 180  Codigo 365  Prospeccao 4  Atendimento 2  Produto 5   \n",
       "474  Cliente 180  Codigo 309  Prospeccao 3  Atendimento 1  Produto 5   \n",
       "475  Cliente 180  Codigo 283  Prospeccao 2  Atendimento 1  Produto 1   \n",
       "476  Cliente 180  Codigo 405  Prospeccao 3  Atendimento 4  Produto 5   \n",
       "477  Cliente 180  Codigo 445  Prospeccao 5  Atendimento 3  Produto 3   \n",
       "478  Cliente 180  Codigo 210  Prospeccao 5  Atendimento 2  Produto 1   \n",
       "479  Cliente 180  Codigo 109  Prospeccao 2  Atendimento 3  Produto 5   \n",
       "480  Cliente 180  Codigo 236  Prospeccao 3  Atendimento 3  Produto 5   \n",
       "481  Cliente 180  Codigo 467  Prospeccao 1  Atendimento 1  Produto 4   \n",
       "482  Cliente 180  Codigo 487  Prospeccao 2  Atendimento 5  Produto 1   \n",
       "483  Cliente 180  Codigo 461  Prospeccao 1  Atendimento 3  Produto 4   \n",
       "\n",
       "      data_ref  patrimonio  taxa_adm  cap_liq    segmento  repasse      mes  \n",
       "471 2023-07-23   733774.80     246.0      0.0  Segmento 2    147.6  2023-07  \n",
       "472 2023-03-06   939389.86     234.0      0.0  Segmento 1    140.4  2023-03  \n",
       "473 2023-12-18   510613.67     298.5      0.0  Segmento 2    179.1  2023-12  \n",
       "474 2023-12-01   474303.34     117.0      0.0  Segmento 3     70.2  2023-12  \n",
       "475 2023-03-29   370973.74     186.0      0.0  Segmento 1    111.6  2023-03  \n",
       "476 2023-08-13   721796.92     223.5      0.0  Segmento 5    134.1  2023-08  \n",
       "477 2023-01-31   285189.11      85.5      0.0  Segmento 4     51.3  2023-01  \n",
       "478 2023-07-23   785154.67      72.0      0.0  Segmento 3     43.2  2023-07  \n",
       "479 2023-01-11   777211.34     181.5      0.0  Segmento 5    108.9  2023-01  \n",
       "480 2023-05-17   319593.22      36.0      0.0  Segmento 3     21.6  2023-05  \n",
       "481 2023-01-20   179337.97     156.0      0.0  Segmento 1     93.6  2023-01  \n",
       "482 2023-03-17   753431.81     244.5      0.0  Segmento 4    146.7  2023-03  \n",
       "483 2023-07-03   265286.08     195.0      0.0  Segmento 4    117.0  2023-07  "
      ]
     },
     "execution_count": 28,
     "metadata": {},
     "output_type": "execute_result"
    }
   ],
   "source": [
    "cliente_180_info = dados[dados['cliente'] == 'Cliente 180']\n",
    "cliente_180_info "
   ]
  },
  {
   "cell_type": "code",
   "execution_count": 29,
   "id": "6bfc6e6c",
   "metadata": {},
   "outputs": [
    {
     "data": {
      "text/plain": [
       "2275.5"
      ]
     },
     "execution_count": 29,
     "metadata": {},
     "output_type": "execute_result"
    }
   ],
   "source": [
    "# soma das taxas de administração para o cliente 180\n",
    "\n",
    "soma_taxas_adm_cliente_180 = cliente_180_info['taxa_adm'].sum()\n",
    "soma_taxas_adm_cliente_180"
   ]
  },
  {
   "cell_type": "markdown",
   "id": "98a0307b",
   "metadata": {},
   "source": [
    "# Total de Taxa de Adm da Empresa"
   ]
  },
  {
   "cell_type": "code",
   "execution_count": 30,
   "id": "2c65e68a",
   "metadata": {},
   "outputs": [
    {
     "data": {
      "text/plain": [
       "311302.5"
      ]
     },
     "execution_count": 30,
     "metadata": {},
     "output_type": "execute_result"
    }
   ],
   "source": [
    "# QUANTO A EMPRESA TEVE DE TAXA DE ADM NO TOTAL \n",
    "\n",
    "total_taxas_adm = dados['taxa_adm'].sum()\n",
    "total_taxas_adm"
   ]
  },
  {
   "cell_type": "code",
   "execution_count": 31,
   "id": "0bbf7ae4",
   "metadata": {},
   "outputs": [
    {
     "data": {
      "text/plain": [
       "Period('2023-08', 'M')"
      ]
     },
     "execution_count": 31,
     "metadata": {},
     "output_type": "execute_result"
    }
   ],
   "source": [
    "soma_taxas_por_mes = dados.groupby(dados['data_ref'].dt.to_period('m'))['taxa_adm'].sum()\n",
    "\n",
    "# mes com a maior soma das taxas de administração\n",
    "mes_maior_taxa_adm = soma_taxas_por_mes.idxmax()\n",
    "mes_maior_taxa_adm\n",
    "\n"
   ]
  },
  {
   "cell_type": "code",
   "execution_count": 32,
   "id": "49026791",
   "metadata": {},
   "outputs": [
    {
     "data": {
      "text/plain": [
       "28977.0"
      ]
     },
     "execution_count": 32,
     "metadata": {},
     "output_type": "execute_result"
    }
   ],
   "source": [
    "# valor da maior taxa de administração\n",
    "valor_maior_taxa_adm = soma_taxas_por_mes.max()\n",
    "valor_maior_taxa_adm\n"
   ]
  },
  {
   "cell_type": "markdown",
   "id": "132dc896",
   "metadata": {},
   "source": [
    "## -media da taxa de adm"
   ]
  },
  {
   "cell_type": "code",
   "execution_count": 33,
   "id": "5ad65c12",
   "metadata": {},
   "outputs": [
    {
     "data": {
      "text/plain": [
       "155.65125"
      ]
     },
     "execution_count": 33,
     "metadata": {},
     "output_type": "execute_result"
    }
   ],
   "source": [
    "media_taxa_adm = dados['taxa_adm'].mean()\n",
    "media_taxa_adm\n"
   ]
  }
 ],
 "metadata": {
  "kernelspec": {
   "display_name": "Python 3 (ipykernel)",
   "language": "python",
   "name": "python3"
  },
  "language_info": {
   "codemirror_mode": {
    "name": "ipython",
    "version": 3
   },
   "file_extension": ".py",
   "mimetype": "text/x-python",
   "name": "python",
   "nbconvert_exporter": "python",
   "pygments_lexer": "ipython3",
   "version": "3.10.9"
  }
 },
 "nbformat": 4,
 "nbformat_minor": 5
}
