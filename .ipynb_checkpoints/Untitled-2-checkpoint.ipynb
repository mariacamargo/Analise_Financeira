{
 "cells": [
  {
   "cell_type": "code",
   "execution_count": 1,
   "id": "48948a3b",
   "metadata": {},
   "outputs": [],
   "source": [
    "import pandas as pd\n",
    "import matplotlib.pyplot as plt\n"
   ]
  },
  {
   "cell_type": "code",
   "execution_count": 2,
   "id": "7f64b5b0",
   "metadata": {},
   "outputs": [
    {
     "data": {
      "text/html": [
       "<div>\n",
       "<style scoped>\n",
       "    .dataframe tbody tr th:only-of-type {\n",
       "        vertical-align: middle;\n",
       "    }\n",
       "\n",
       "    .dataframe tbody tr th {\n",
       "        vertical-align: top;\n",
       "    }\n",
       "\n",
       "    .dataframe thead th {\n",
       "        text-align: right;\n",
       "    }\n",
       "</style>\n",
       "<table border=\"1\" class=\"dataframe\">\n",
       "  <thead>\n",
       "    <tr style=\"text-align: right;\">\n",
       "      <th></th>\n",
       "      <th>Cliente</th>\n",
       "      <th>Codigo</th>\n",
       "      <th>Prospeccao</th>\n",
       "      <th>Atendimento</th>\n",
       "      <th>Produto</th>\n",
       "      <th>Data_ref</th>\n",
       "      <th>Patrimonio</th>\n",
       "      <th>Taxa_adm</th>\n",
       "      <th>Cap_Liq</th>\n",
       "      <th>Segmento</th>\n",
       "    </tr>\n",
       "  </thead>\n",
       "  <tbody>\n",
       "    <tr>\n",
       "      <th>0</th>\n",
       "      <td>Cliente 1</td>\n",
       "      <td>Codigo 485</td>\n",
       "      <td>Prospeccao 4</td>\n",
       "      <td>Atendimento 5</td>\n",
       "      <td>Produto 2</td>\n",
       "      <td>2023-09-10</td>\n",
       "      <td>569538.44</td>\n",
       "      <td>39.0</td>\n",
       "      <td>568057.64</td>\n",
       "      <td>Segmento 3</td>\n",
       "    </tr>\n",
       "    <tr>\n",
       "      <th>1</th>\n",
       "      <td>Cliente 1</td>\n",
       "      <td>Codigo 332</td>\n",
       "      <td>Prospeccao 5</td>\n",
       "      <td>Atendimento 2</td>\n",
       "      <td>Produto 4</td>\n",
       "      <td>2023-04-17</td>\n",
       "      <td>198650.85</td>\n",
       "      <td>99.0</td>\n",
       "      <td>197339.75</td>\n",
       "      <td>Segmento 5</td>\n",
       "    </tr>\n",
       "    <tr>\n",
       "      <th>2</th>\n",
       "      <td>Cliente 1</td>\n",
       "      <td>Codigo 223</td>\n",
       "      <td>Prospeccao 3</td>\n",
       "      <td>Atendimento 3</td>\n",
       "      <td>Produto 3</td>\n",
       "      <td>2023-11-14</td>\n",
       "      <td>862405.42</td>\n",
       "      <td>22.5</td>\n",
       "      <td>861111.81</td>\n",
       "      <td>Segmento 3</td>\n",
       "    </tr>\n",
       "    <tr>\n",
       "      <th>3</th>\n",
       "      <td>Cliente 1</td>\n",
       "      <td>Codigo 143</td>\n",
       "      <td>Prospeccao 4</td>\n",
       "      <td>Atendimento 4</td>\n",
       "      <td>Produto 4</td>\n",
       "      <td>2023-03-30</td>\n",
       "      <td>815386.28</td>\n",
       "      <td>144.0</td>\n",
       "      <td>807558.57</td>\n",
       "      <td>Segmento 3</td>\n",
       "    </tr>\n",
       "    <tr>\n",
       "      <th>4</th>\n",
       "      <td>Cliente 1</td>\n",
       "      <td>Codigo 137</td>\n",
       "      <td>Prospeccao 4</td>\n",
       "      <td>Atendimento 3</td>\n",
       "      <td>Produto 1</td>\n",
       "      <td>2023-06-30</td>\n",
       "      <td>153715.42</td>\n",
       "      <td>159.0</td>\n",
       "      <td>152086.04</td>\n",
       "      <td>Segmento 4</td>\n",
       "    </tr>\n",
       "    <tr>\n",
       "      <th>...</th>\n",
       "      <td>...</td>\n",
       "      <td>...</td>\n",
       "      <td>...</td>\n",
       "      <td>...</td>\n",
       "      <td>...</td>\n",
       "      <td>...</td>\n",
       "      <td>...</td>\n",
       "      <td>...</td>\n",
       "      <td>...</td>\n",
       "      <td>...</td>\n",
       "    </tr>\n",
       "    <tr>\n",
       "      <th>1995</th>\n",
       "      <td>Cliente 99</td>\n",
       "      <td>Codigo 380</td>\n",
       "      <td>Prospeccao 3</td>\n",
       "      <td>Atendimento 3</td>\n",
       "      <td>Produto 3</td>\n",
       "      <td>2023-01-02</td>\n",
       "      <td>356733.11</td>\n",
       "      <td>180.0</td>\n",
       "      <td>0.00</td>\n",
       "      <td>Segmento 5</td>\n",
       "    </tr>\n",
       "    <tr>\n",
       "      <th>1996</th>\n",
       "      <td>Cliente 99</td>\n",
       "      <td>Codigo 288</td>\n",
       "      <td>Prospeccao 2</td>\n",
       "      <td>Atendimento 5</td>\n",
       "      <td>Produto 4</td>\n",
       "      <td>2023-11-23</td>\n",
       "      <td>615790.47</td>\n",
       "      <td>187.5</td>\n",
       "      <td>0.00</td>\n",
       "      <td>Segmento 4</td>\n",
       "    </tr>\n",
       "    <tr>\n",
       "      <th>1997</th>\n",
       "      <td>Cliente 99</td>\n",
       "      <td>Codigo 428</td>\n",
       "      <td>Prospeccao 2</td>\n",
       "      <td>Atendimento 1</td>\n",
       "      <td>Produto 4</td>\n",
       "      <td>2023-01-25</td>\n",
       "      <td>255087.43</td>\n",
       "      <td>16.5</td>\n",
       "      <td>0.00</td>\n",
       "      <td>Segmento 1</td>\n",
       "    </tr>\n",
       "    <tr>\n",
       "      <th>1998</th>\n",
       "      <td>Cliente 99</td>\n",
       "      <td>Codigo 203</td>\n",
       "      <td>Prospeccao 5</td>\n",
       "      <td>Atendimento 2</td>\n",
       "      <td>Produto 2</td>\n",
       "      <td>2023-12-06</td>\n",
       "      <td>921229.17</td>\n",
       "      <td>109.5</td>\n",
       "      <td>0.00</td>\n",
       "      <td>Segmento 4</td>\n",
       "    </tr>\n",
       "    <tr>\n",
       "      <th>1999</th>\n",
       "      <td>Cliente 99</td>\n",
       "      <td>Codigo 436</td>\n",
       "      <td>Prospeccao 5</td>\n",
       "      <td>Atendimento 3</td>\n",
       "      <td>Produto 2</td>\n",
       "      <td>2023-08-26</td>\n",
       "      <td>777843.02</td>\n",
       "      <td>202.5</td>\n",
       "      <td>0.00</td>\n",
       "      <td>Segmento 2</td>\n",
       "    </tr>\n",
       "  </tbody>\n",
       "</table>\n",
       "<p>2000 rows × 10 columns</p>\n",
       "</div>"
      ],
      "text/plain": [
       "         Cliente      Codigo    Prospeccao    Atendimento    Produto  \\\n",
       "0      Cliente 1  Codigo 485  Prospeccao 4  Atendimento 5  Produto 2   \n",
       "1      Cliente 1  Codigo 332  Prospeccao 5  Atendimento 2  Produto 4   \n",
       "2      Cliente 1  Codigo 223  Prospeccao 3  Atendimento 3  Produto 3   \n",
       "3      Cliente 1  Codigo 143  Prospeccao 4  Atendimento 4  Produto 4   \n",
       "4      Cliente 1  Codigo 137  Prospeccao 4  Atendimento 3  Produto 1   \n",
       "...          ...         ...           ...            ...        ...   \n",
       "1995  Cliente 99  Codigo 380  Prospeccao 3  Atendimento 3  Produto 3   \n",
       "1996  Cliente 99  Codigo 288  Prospeccao 2  Atendimento 5  Produto 4   \n",
       "1997  Cliente 99  Codigo 428  Prospeccao 2  Atendimento 1  Produto 4   \n",
       "1998  Cliente 99  Codigo 203  Prospeccao 5  Atendimento 2  Produto 2   \n",
       "1999  Cliente 99  Codigo 436  Prospeccao 5  Atendimento 3  Produto 2   \n",
       "\n",
       "       Data_ref  Patrimonio  Taxa_adm    Cap_Liq    Segmento  \n",
       "0    2023-09-10   569538.44      39.0  568057.64  Segmento 3  \n",
       "1    2023-04-17   198650.85      99.0  197339.75  Segmento 5  \n",
       "2    2023-11-14   862405.42      22.5  861111.81  Segmento 3  \n",
       "3    2023-03-30   815386.28     144.0  807558.57  Segmento 3  \n",
       "4    2023-06-30   153715.42     159.0  152086.04  Segmento 4  \n",
       "...         ...         ...       ...        ...         ...  \n",
       "1995 2023-01-02   356733.11     180.0       0.00  Segmento 5  \n",
       "1996 2023-11-23   615790.47     187.5       0.00  Segmento 4  \n",
       "1997 2023-01-25   255087.43      16.5       0.00  Segmento 1  \n",
       "1998 2023-12-06   921229.17     109.5       0.00  Segmento 4  \n",
       "1999 2023-08-26   777843.02     202.5       0.00  Segmento 2  \n",
       "\n",
       "[2000 rows x 10 columns]"
      ]
     },
     "execution_count": 2,
     "metadata": {},
     "output_type": "execute_result"
    }
   ],
   "source": [
    "caminho = 'C:/Users/maria.nommad/Desktop/conda/dados_financeiros.xlsx'\n",
    "dados = pd.read_excel(caminho)\n",
    "dados"
   ]
  },
  {
   "cell_type": "code",
   "execution_count": 3,
   "id": "1c377a08",
   "metadata": {
    "scrolled": true
   },
   "outputs": [
    {
     "ename": "SyntaxError",
     "evalue": "invalid syntax (3650427012.py, line 1)",
     "output_type": "error",
     "traceback": [
      "\u001b[1;36m  Cell \u001b[1;32mIn[3], line 1\u001b[1;36m\u001b[0m\n\u001b[1;33m    calcular o quanto teve de captação por mês e no ano - OK -\u001b[0m\n\u001b[1;37m             ^\u001b[0m\n\u001b[1;31mSyntaxError\u001b[0m\u001b[1;31m:\u001b[0m invalid syntax\n"
     ]
    }
   ],
   "source": [
    "calcular o quanto teve de captação por mês e no ano - OK -\n",
    "qual o segmento que possui o maior Patrimonio - ok -\n",
    "evolução da quantidade de clientes mensais - ok - \n",
    "numero de cliente por segmento - OK - \n",
    "numero de cliente por produto - OK - \n",
    "quem gerou maior taxa de adm - ok\n",
    "quanto a empresa teve de taxa de adm - OK\n",
    "# total - o que foi repassado para os atendimento e prospecção #"
   ]
  },
  {
   "cell_type": "code",
   "execution_count": 6,
   "id": "648a7ddf",
   "metadata": {},
   "outputs": [
    {
     "data": {
      "text/plain": [
       "205654590.3"
      ]
     },
     "execution_count": 6,
     "metadata": {},
     "output_type": "execute_result"
    }
   ],
   "source": [
    "# MAIOR PATRIMONIO\n",
    "\n",
    "patrimonio_por_segmento = dados.groupby('Segmento')['Patrimonio'].sum()\n",
    "segmento_maior_patrimonio = patrimonio_por_segmento.idxmax()\n",
    "maior_patrimonio = patrimonio_por_segmento.max()\n",
    "maior_patrimonio"
   ]
  },
  {
   "cell_type": "code",
   "execution_count": 7,
   "id": "5ac891dc",
   "metadata": {},
   "outputs": [
    {
     "data": {
      "text/plain": [
       "'Segmento 4'"
      ]
     },
     "execution_count": 7,
     "metadata": {},
     "output_type": "execute_result"
    }
   ],
   "source": [
    "segmento_maior_patrimonio"
   ]
  },
  {
   "cell_type": "code",
   "execution_count": 8,
   "id": "c3476d64",
   "metadata": {},
   "outputs": [
    {
     "data": {
      "text/plain": [
       "Data_ref\n",
       "2023-01     8145787.28\n",
       "2023-02     7556801.00\n",
       "2023-03     7835118.51\n",
       "2023-04     9909621.47\n",
       "2023-05    12569321.10\n",
       "2023-06     6828874.80\n",
       "2023-07     8027909.61\n",
       "2023-08    12768287.82\n",
       "2023-09     5209249.22\n",
       "2023-10     9373724.11\n",
       "2023-11    11993072.25\n",
       "2023-12     7731198.48\n",
       "Freq: M, Name: Cap_Liq, dtype: float64"
      ]
     },
     "execution_count": 8,
     "metadata": {},
     "output_type": "execute_result"
    }
   ],
   "source": [
    "# CAPTACAO POR MES\n",
    "\n",
    "captacao_por_mês = dados.groupby(dados['Data_ref'].dt.to_period('M'))['Cap_Liq'].sum()\n",
    "captacao_por_mês\n"
   ]
  },
  {
   "cell_type": "code",
   "execution_count": 9,
   "id": "afe2bd13",
   "metadata": {},
   "outputs": [
    {
     "data": {
      "text/plain": [
       "107948965.65"
      ]
     },
     "execution_count": 9,
     "metadata": {},
     "output_type": "execute_result"
    }
   ],
   "source": [
    "# CAPTACAO POR ANO\n",
    "\n",
    "captacao_no_ano = dados['Cap_Liq'].sum()\n",
    "captacao_no_ano"
   ]
  },
  {
   "cell_type": "code",
   "execution_count": 10,
   "id": "a9ab4900",
   "metadata": {},
   "outputs": [
    {
     "data": {
      "text/plain": [
       "mes\n",
       "2023-01    136\n",
       "2023-02    114\n",
       "2023-03    133\n",
       "2023-04    146\n",
       "2023-05    132\n",
       "2023-06    127\n",
       "2023-07    139\n",
       "2023-08    149\n",
       "2023-09    129\n",
       "2023-10    147\n",
       "2023-11    131\n",
       "2023-12    135\n",
       "Freq: M, Name: Cliente, dtype: int64"
      ]
     },
     "execution_count": 10,
     "metadata": {},
     "output_type": "execute_result"
    }
   ],
   "source": [
    "# EVOLUÇÃO DA QUNATIDADE DE CLIENTES MENSAIS \n",
    "\n",
    "\n",
    "dados['Data_ref'] = pd.to_datetime(dados['Data_ref'])\n",
    "dados['mes'] = dados['Data_ref'].dt.to_period('M')\n",
    "clientes_por_mes = dados.groupby('mes')['Cliente'].nunique()\n",
    "clientes_por_mes"
   ]
  },
  {
   "cell_type": "code",
   "execution_count": 11,
   "id": "1a1ccd8e",
   "metadata": {},
   "outputs": [
    {
     "data": {
      "image/png": "[encoded data removed]",
      "text/plain": [
       "<Figure size 1000x600 with 1 Axes>"
      ]
     },
     "metadata": {},
     "output_type": "display_data"
    }
   ],
   "source": [
    "\n",
    "dados['Data_ref'] = pd.to_datetime(dados['Data_ref'])\n",
    "\n",
    "# Criando uma coluna para o mês\n",
    "dados['mes'] = dados['Data_ref'].dt.to_period('M')\n",
    "\n",
    "# Calculando a quantidade de clientes por mês\n",
    "clientes_por_mes = dados.groupby('mes')['Cliente'].nunique()\n",
    "\n",
    "# Criando o gráfico de linha\n",
    "plt.figure(figsize=(10, 6))\n",
    "plt.plot(clientes_por_mes.index.astype(str), clientes_por_mes.values, marker='o', linestyle='-')\n",
    "plt.title('Evolução da Quantidade de Clientes Mensais')\n",
    "plt.xlabel('mes')\n",
    "plt.ylabel('Quantidade de Clientes')\n",
    "plt.xticks(rotation=45)\n",
    "plt.grid(True)\n",
    "plt.tight_layout()\n",
    "plt.show()\n"
   ]
  },
  {
   "cell_type": "code",
   "execution_count": 12,
   "id": "b64d88ee",
   "metadata": {},
   "outputs": [
    {
     "data": {
      "image/png": "[encoded data removed]",
      "text/plain": [
       "<Figure size 1000x600 with 1 Axes>"
      ]
     },
     "metadata": {},
     "output_type": "display_data"
    }
   ],
   "source": [
    "import pandas as pd\n",
    "import matplotlib.pyplot as plt\n",
    "\n",
    "# Supondo que 'dados' seja o DataFrame com as colunas 'Data_ref' e 'Cliente'\n",
    "# Certifique-se de que 'Data_ref' seja do tipo datetime\n",
    "\n",
    "# Convertendo 'Data_ref' para datetime\n",
    "dados['Data_ref'] = pd.to_datetime(dados['Data_ref'])\n",
    "\n",
    "# Criando uma coluna para o mês\n",
    "dados['mes'] = dados['Data_ref'].dt.to_period('M')\n",
    "\n",
    "# Calculando a quantidade de clientes por mês\n",
    "clientes_por_mes = dados.groupby('mes')['Cliente'].nunique()\n",
    "\n",
    "# Criando o gráfico de barras com cores diferenciadas\n",
    "plt.figure(figsize=(10, 6))\n",
    "bars = plt.bar(clientes_por_mes.index.strftime('%Y-%m'), clientes_por_mes.values, color=['red' if clientes_por_mes.iloc[i] >= clientes_por_mes.iloc[i - 1] else 'blue' for i in range(1, len(clientes_por_mes))])\n",
    "\n",
    "# Adicionando rótulos e títulos\n",
    "plt.title('Evolução da Quantidade de Clientes Mensais')\n",
    "plt.xlabel('mes')\n",
    "plt.ylabel('Quantidade de Clientes')\n",
    "plt.xticks(rotation=45)\n",
    "\n",
    "# Adicionando rótulos às barras\n",
    "for bar in bars:\n",
    "    yval = bar.get_height()\n",
    "    plt.text(bar.get_x() + bar.get_width()/2, yval, round(yval), ha='center', va='bottom')\n",
    "\n",
    "plt.grid(True)\n",
    "plt.tight_layout()\n",
    "plt.show()\n"
   ]
  },
  {
   "cell_type": "code",
   "execution_count": 13,
   "id": "108b2b7a",
   "metadata": {},
   "outputs": [
    {
     "data": {
      "text/plain": [
       "Segmento\n",
       "Segmento 1    248\n",
       "Segmento 2    256\n",
       "Segmento 3    255\n",
       "Segmento 4    252\n",
       "Segmento 5    255\n",
       "Name: Cliente, dtype: int64"
      ]
     },
     "execution_count": 13,
     "metadata": {},
     "output_type": "execute_result"
    }
   ],
   "source": [
    "# QUANTIDADE DE CLIENTES POR SEGMENTO \n",
    "\n",
    "clientes_por_segmento = dados.groupby('Segmento')['Cliente'].nunique()\n",
    "clientes_por_segmento"
   ]
  },
  {
   "cell_type": "code",
   "execution_count": 14,
   "id": "267b6a7f",
   "metadata": {},
   "outputs": [
    {
     "data": {
      "text/plain": [
       "Produto\n",
       "Produto 1    244\n",
       "Produto 2    252\n",
       "Produto 3    261\n",
       "Produto 4    241\n",
       "Produto 5    246\n",
       "Name: Cliente, dtype: int64"
      ]
     },
     "execution_count": 14,
     "metadata": {},
     "output_type": "execute_result"
    }
   ],
   "source": [
    "# QUANTIDADE DE CLIENTES POR PRODUTO \n",
    "\n",
    "\n",
    "clientes_por_produto = dados.groupby('Produto')['Cliente'].nunique()\n",
    "clientes_por_produto"
   ]
  },
  {
   "cell_type": "code",
   "execution_count": 15,
   "id": "ae87b363",
   "metadata": {},
   "outputs": [
    {
     "data": {
      "text/plain": [
       "Cliente\n",
       "Cliente 1       619.5\n",
       "Cliente 10      559.5\n",
       "Cliente 100     738.0\n",
       "Cliente 101    1069.5\n",
       "Cliente 102     577.5\n",
       "                ...  \n",
       "Cliente 95      837.0\n",
       "Cliente 96      991.5\n",
       "Cliente 97      613.5\n",
       "Cliente 98      475.5\n",
       "Cliente 99      696.0\n",
       "Name: Taxa_adm, Length: 397, dtype: float64"
      ]
     },
     "execution_count": 15,
     "metadata": {},
     "output_type": "execute_result"
    }
   ],
   "source": [
    "# QUEM GEROU A MAIOR TAXA DE ADM\n",
    "\n",
    "taxa_adm_por_cliente = dados.groupby('Cliente')['Taxa_adm'].sum()\n",
    "taxa_adm_por_cliente"
   ]
  },
  {
   "cell_type": "code",
   "execution_count": 16,
   "id": "8df7bed2",
   "metadata": {},
   "outputs": [
    {
     "data": {
      "text/plain": [
       "'Cliente 180'"
      ]
     },
     "execution_count": 16,
     "metadata": {},
     "output_type": "execute_result"
    }
   ],
   "source": [
    "# Encontrando o cliente que gerou a maior taxa de administração\n",
    "\n",
    "cliente_maior_taxa_adm = taxa_adm_por_cliente.idxmax()\n",
    "cliente_maior_taxa_adm"
   ]
  },
  {
   "cell_type": "code",
   "execution_count": 17,
   "id": "6ccc0a81",
   "metadata": {},
   "outputs": [
    {
     "name": "stdout",
     "output_type": "stream",
     "text": [
      "Informações para o Cliente 180:\n",
      "         Cliente  Taxa_adm\n",
      "471  Cliente 180     246.0\n",
      "472  Cliente 180     234.0\n",
      "473  Cliente 180     298.5\n",
      "474  Cliente 180     117.0\n",
      "475  Cliente 180     186.0\n",
      "476  Cliente 180     223.5\n",
      "477  Cliente 180      85.5\n",
      "478  Cliente 180      72.0\n",
      "479  Cliente 180     181.5\n",
      "480  Cliente 180      36.0\n",
      "481  Cliente 180     156.0\n",
      "482  Cliente 180     244.5\n",
      "483  Cliente 180     195.0\n"
     ]
    }
   ],
   "source": [
    "cliente_180_info = dados[dados['Cliente'] == 'Cliente 180']\n",
    "print(f\"Informações para o Cliente 180:\\n{cliente_180_info[['Cliente', 'Taxa_adm']]}\")\n"
   ]
  },
  {
   "cell_type": "code",
   "execution_count": 18,
   "id": "e52e8bba",
   "metadata": {},
   "outputs": [
    {
     "name": "stdout",
     "output_type": "stream",
     "text": [
      "Soma das taxas de administração para o Cliente 180: 2275.5\n"
     ]
    }
   ],
   "source": [
    "# Calculando a soma das taxas de administração para o cliente 180\n",
    "soma_taxas_adm_cliente_180 = cliente_180_info['Taxa_adm'].sum()\n",
    "\n",
    "# Exibindo a soma das taxas de administração para o cliente 180\n",
    "print(f\"Soma das taxas de administração para o Cliente 180: {soma_taxas_adm_cliente_180}\")\n"
   ]
  },
  {
   "cell_type": "code",
   "execution_count": 19,
   "id": "95322200",
   "metadata": {},
   "outputs": [
    {
     "name": "stdout",
     "output_type": "stream",
     "text": [
      "Total de taxas de administração para a empresa: 311302.5\n"
     ]
    }
   ],
   "source": [
    "# QUANTO A EMPRESA TEVE DE TAXA DE ADM NO TOTAL \n",
    "\n",
    "\n",
    "total_taxas_adm = dados['Taxa_adm'].sum()\n",
    "# Exibindo o total das taxas de administração para a empresa\n",
    "print(f\"Total de taxas de administração para a empresa: {total_taxas_adm}\")\n"
   ]
  },
  {
   "cell_type": "code",
   "execution_count": 20,
   "id": "79f01c4f",
   "metadata": {},
   "outputs": [
    {
     "name": "stdout",
     "output_type": "stream",
     "text": [
      "Mês com a maior taxa de administração: 2023-08, Valor: 28977.0\n"
     ]
    }
   ],
   "source": [
    "\n",
    "# Agrupando os dados por mês e calculando a soma das taxas de administração\n",
    "soma_taxas_por_mes = dados.groupby(dados['Data_ref'].dt.to_period('M'))['Taxa_adm'].sum()\n",
    "\n",
    "# Encontrando o mês com a maior soma das taxas de administração\n",
    "mes_maior_taxa_adm = soma_taxas_por_mes.idxmax()\n",
    "\n",
    "# Obtendo o valor da maior taxa de administração\n",
    "valor_maior_taxa_adm = soma_taxas_por_mes.max()\n",
    "\n",
    "# Exibindo o resultado\n",
    "print(f\"Mês com a maior taxa de administração: {mes_maior_taxa_adm}, Valor: {valor_maior_taxa_adm}\")\n"
   ]
  },
  {
   "cell_type": "code",
   "execution_count": null,
   "id": "dfe90399",
   "metadata": {},
   "outputs": [],
   "source": []
  }
 ],
 "metadata": {
  "kernelspec": {
   "display_name": "Python 3 (ipykernel)",
   "language": "python",
   "name": "python3"
  },
  "language_info": {
   "codemirror_mode": {
    "name": "ipython",
    "version": 3
   },
   "file_extension": ".py",
   "mimetype": "text/x-python",
   "name": "python",
   "nbconvert_exporter": "python",
   "pygments_lexer": "ipython3",
   "version": "3.11.5"
  }
 },
 "nbformat": 4,
 "nbformat_minor": 5
}
